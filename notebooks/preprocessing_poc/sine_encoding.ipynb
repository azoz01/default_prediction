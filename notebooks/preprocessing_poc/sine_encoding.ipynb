{
 "cells": [
  {
   "cell_type": "code",
   "execution_count": 1,
   "metadata": {},
   "outputs": [
    {
     "data": {
      "application/javascript": "\n            setTimeout(function() {\n                var nbb_cell_id = 1;\n                var nbb_unformatted_code = \"%load_ext nb_black\";\n                var nbb_formatted_code = \"%load_ext nb_black\";\n                var nbb_cells = Jupyter.notebook.get_cells();\n                for (var i = 0; i < nbb_cells.length; ++i) {\n                    if (nbb_cells[i].input_prompt_number == nbb_cell_id) {\n                        if (nbb_cells[i].get_text() == nbb_unformatted_code) {\n                             nbb_cells[i].set_text(nbb_formatted_code);\n                        }\n                        break;\n                    }\n                }\n            }, 500);\n            ",
      "text/plain": [
       "<IPython.core.display.Javascript object>"
      ]
     },
     "metadata": {},
     "output_type": "display_data"
    }
   ],
   "source": [
    "%load_ext nb_black"
   ]
  },
  {
   "cell_type": "code",
   "execution_count": 2,
   "metadata": {},
   "outputs": [
    {
     "data": {
      "application/javascript": "\n            setTimeout(function() {\n                var nbb_cell_id = 2;\n                var nbb_unformatted_code = \"import os\\nos.chdir(\\\"../..\\\")\";\n                var nbb_formatted_code = \"import os\\n\\nos.chdir(\\\"../..\\\")\";\n                var nbb_cells = Jupyter.notebook.get_cells();\n                for (var i = 0; i < nbb_cells.length; ++i) {\n                    if (nbb_cells[i].input_prompt_number == nbb_cell_id) {\n                        if (nbb_cells[i].get_text() == nbb_unformatted_code) {\n                             nbb_cells[i].set_text(nbb_formatted_code);\n                        }\n                        break;\n                    }\n                }\n            }, 500);\n            ",
      "text/plain": [
       "<IPython.core.display.Javascript object>"
      ]
     },
     "metadata": {},
     "output_type": "display_data"
    }
   ],
   "source": [
    "import os\n",
    "os.chdir(\"../..\")"
   ]
  },
  {
   "cell_type": "code",
   "execution_count": 3,
   "metadata": {},
   "outputs": [
    {
     "data": {
      "application/javascript": "\n            setTimeout(function() {\n                var nbb_cell_id = 3;\n                var nbb_unformatted_code = \"import pandas as pd\\nimport numpy as np\";\n                var nbb_formatted_code = \"import pandas as pd\\nimport numpy as np\";\n                var nbb_cells = Jupyter.notebook.get_cells();\n                for (var i = 0; i < nbb_cells.length; ++i) {\n                    if (nbb_cells[i].input_prompt_number == nbb_cell_id) {\n                        if (nbb_cells[i].get_text() == nbb_unformatted_code) {\n                             nbb_cells[i].set_text(nbb_formatted_code);\n                        }\n                        break;\n                    }\n                }\n            }, 500);\n            ",
      "text/plain": [
       "<IPython.core.display.Javascript object>"
      ]
     },
     "metadata": {},
     "output_type": "display_data"
    }
   ],
   "source": [
    "import pandas as pd\n",
    "import numpy as np"
   ]
  },
  {
   "cell_type": "code",
   "execution_count": 4,
   "metadata": {},
   "outputs": [
    {
     "data": {
      "application/javascript": "\n            setTimeout(function() {\n                var nbb_cell_id = 4;\n                var nbb_unformatted_code = \"X = pd.read_parquet(\\\"resources/data/clean/X_train.parquet\\\")\\ny = pd.read_parquet(\\\"resources/data/clean/y_train.parquet\\\")\";\n                var nbb_formatted_code = \"X = pd.read_parquet(\\\"resources/data/clean/X_train.parquet\\\")\\ny = pd.read_parquet(\\\"resources/data/clean/y_train.parquet\\\")\";\n                var nbb_cells = Jupyter.notebook.get_cells();\n                for (var i = 0; i < nbb_cells.length; ++i) {\n                    if (nbb_cells[i].input_prompt_number == nbb_cell_id) {\n                        if (nbb_cells[i].get_text() == nbb_unformatted_code) {\n                             nbb_cells[i].set_text(nbb_formatted_code);\n                        }\n                        break;\n                    }\n                }\n            }, 500);\n            ",
      "text/plain": [
       "<IPython.core.display.Javascript object>"
      ]
     },
     "metadata": {},
     "output_type": "display_data"
    }
   ],
   "source": [
    "X = pd.read_parquet(\"resources/data/clean/X_train.parquet\")\n",
    "y = pd.read_parquet(\"resources/data/clean/y_train.parquet\")"
   ]
  },
  {
   "cell_type": "code",
   "execution_count": 5,
   "metadata": {},
   "outputs": [
    {
     "data": {
      "text/plain": [
       "Index(['loan_amnt', 'funded_amnt', 'funded_amnt_inv', 'term', 'int_rate',\n",
       "       'installment', 'grade', 'emp_title', 'emp_length', 'annual_inc',\n",
       "       'verification_status', 'purpose', 'dti', 'delinq_2yrs',\n",
       "       'inq_last_6mths', 'mths_since_last_delinq', 'mths_since_last_record',\n",
       "       'open_acc', 'pub_rec', 'revol_bal', 'revol_util', 'total_acc',\n",
       "       'initial_list_status', 'total_pymnt', 'total_pymnt_inv',\n",
       "       'total_rec_prncp', 'total_rec_int', 'total_rec_late_fee', 'recoveries',\n",
       "       'collection_recovery_fee', 'last_pymnt_amnt',\n",
       "       'collections_12_mths_ex_med', 'mths_since_last_major_derog',\n",
       "       'acc_now_delinq', 'tot_coll_amt', 'tot_cur_bal', 'total_rev_hi_lim',\n",
       "       'issue_d_month', 'issue_d_year', 'earliest_cr_line_month',\n",
       "       'earliest_cr_line_year', 'last_pymnt_d_month', 'last_pymnt_d_year',\n",
       "       'last_credit_pull_d_month', 'last_credit_pull_d_year'],\n",
       "      dtype='object')"
      ]
     },
     "execution_count": 5,
     "metadata": {},
     "output_type": "execute_result"
    },
    {
     "data": {
      "application/javascript": "\n            setTimeout(function() {\n                var nbb_cell_id = 5;\n                var nbb_unformatted_code = \"X.columns\";\n                var nbb_formatted_code = \"X.columns\";\n                var nbb_cells = Jupyter.notebook.get_cells();\n                for (var i = 0; i < nbb_cells.length; ++i) {\n                    if (nbb_cells[i].input_prompt_number == nbb_cell_id) {\n                        if (nbb_cells[i].get_text() == nbb_unformatted_code) {\n                             nbb_cells[i].set_text(nbb_formatted_code);\n                        }\n                        break;\n                    }\n                }\n            }, 500);\n            ",
      "text/plain": [
       "<IPython.core.display.Javascript object>"
      ]
     },
     "metadata": {},
     "output_type": "display_data"
    }
   ],
   "source": [
    "X.columns"
   ]
  },
  {
   "cell_type": "markdown",
   "metadata": {},
   "source": [
    "### Cyclical columns:\n",
    "* `issue_d_month`\n",
    "* `earliest_cr_line_month`\n",
    "* `last_pymnt_d_month`\n",
    "* `last_credit_pull_d_month`"
   ]
  },
  {
   "cell_type": "code",
   "execution_count": 6,
   "metadata": {},
   "outputs": [
    {
     "data": {
      "application/javascript": "\n            setTimeout(function() {\n                var nbb_cell_id = 6;\n                var nbb_unformatted_code = \"column = \\\"issue_d_month\\\"\";\n                var nbb_formatted_code = \"column = \\\"issue_d_month\\\"\";\n                var nbb_cells = Jupyter.notebook.get_cells();\n                for (var i = 0; i < nbb_cells.length; ++i) {\n                    if (nbb_cells[i].input_prompt_number == nbb_cell_id) {\n                        if (nbb_cells[i].get_text() == nbb_unformatted_code) {\n                             nbb_cells[i].set_text(nbb_formatted_code);\n                        }\n                        break;\n                    }\n                }\n            }, 500);\n            ",
      "text/plain": [
       "<IPython.core.display.Javascript object>"
      ]
     },
     "metadata": {},
     "output_type": "display_data"
    }
   ],
   "source": [
    "column = \"issue_d_month\""
   ]
  },
  {
   "cell_type": "code",
   "execution_count": 7,
   "metadata": {},
   "outputs": [
    {
     "data": {
      "text/plain": [
       "0         5.235988\n",
       "1         2.094395\n",
       "2         0.000000\n",
       "3         2.617994\n",
       "4         5.759587\n",
       "            ...   \n",
       "177074    5.759587\n",
       "177075    0.000000\n",
       "177076    3.141593\n",
       "177077    0.000000\n",
       "177078    2.094395\n",
       "Name: issue_d_month, Length: 177079, dtype: float64"
      ]
     },
     "execution_count": 7,
     "metadata": {},
     "output_type": "execute_result"
    },
    {
     "data": {
      "application/javascript": "\n            setTimeout(function() {\n                var nbb_cell_id = 7;\n                var nbb_unformatted_code = \"min_month = 1\\nmax_month = 12\\nscaled_column = (X[column] - min_month)/max_month*2*np.pi\\nscaled_column\";\n                var nbb_formatted_code = \"min_month = 1\\nmax_month = 12\\nscaled_column = (X[column] - min_month) / max_month * 2 * np.pi\\nscaled_column\";\n                var nbb_cells = Jupyter.notebook.get_cells();\n                for (var i = 0; i < nbb_cells.length; ++i) {\n                    if (nbb_cells[i].input_prompt_number == nbb_cell_id) {\n                        if (nbb_cells[i].get_text() == nbb_unformatted_code) {\n                             nbb_cells[i].set_text(nbb_formatted_code);\n                        }\n                        break;\n                    }\n                }\n            }, 500);\n            ",
      "text/plain": [
       "<IPython.core.display.Javascript object>"
      ]
     },
     "metadata": {},
     "output_type": "display_data"
    }
   ],
   "source": [
    "min_month = 1\n",
    "max_month = 12\n",
    "scaled_column = (X[column] - min_month)/max_month*2*np.pi\n",
    "scaled_column"
   ]
  },
  {
   "cell_type": "code",
   "execution_count": 8,
   "metadata": {},
   "outputs": [
    {
     "data": {
      "text/html": [
       "<div>\n",
       "<style scoped>\n",
       "    .dataframe tbody tr th:only-of-type {\n",
       "        vertical-align: middle;\n",
       "    }\n",
       "\n",
       "    .dataframe tbody tr th {\n",
       "        vertical-align: top;\n",
       "    }\n",
       "\n",
       "    .dataframe thead th {\n",
       "        text-align: right;\n",
       "    }\n",
       "</style>\n",
       "<table border=\"1\" class=\"dataframe\">\n",
       "  <thead>\n",
       "    <tr style=\"text-align: right;\">\n",
       "      <th></th>\n",
       "      <th>issue_d_month_sine</th>\n",
       "      <th>issue_d_month_cosine</th>\n",
       "    </tr>\n",
       "  </thead>\n",
       "  <tbody>\n",
       "    <tr>\n",
       "      <th>0</th>\n",
       "      <td>-8.660254e-01</td>\n",
       "      <td>0.500000</td>\n",
       "    </tr>\n",
       "    <tr>\n",
       "      <th>1</th>\n",
       "      <td>8.660254e-01</td>\n",
       "      <td>-0.500000</td>\n",
       "    </tr>\n",
       "    <tr>\n",
       "      <th>2</th>\n",
       "      <td>0.000000e+00</td>\n",
       "      <td>1.000000</td>\n",
       "    </tr>\n",
       "    <tr>\n",
       "      <th>3</th>\n",
       "      <td>5.000000e-01</td>\n",
       "      <td>-0.866025</td>\n",
       "    </tr>\n",
       "    <tr>\n",
       "      <th>4</th>\n",
       "      <td>-5.000000e-01</td>\n",
       "      <td>0.866025</td>\n",
       "    </tr>\n",
       "    <tr>\n",
       "      <th>...</th>\n",
       "      <td>...</td>\n",
       "      <td>...</td>\n",
       "    </tr>\n",
       "    <tr>\n",
       "      <th>177074</th>\n",
       "      <td>-5.000000e-01</td>\n",
       "      <td>0.866025</td>\n",
       "    </tr>\n",
       "    <tr>\n",
       "      <th>177075</th>\n",
       "      <td>0.000000e+00</td>\n",
       "      <td>1.000000</td>\n",
       "    </tr>\n",
       "    <tr>\n",
       "      <th>177076</th>\n",
       "      <td>1.224647e-16</td>\n",
       "      <td>-1.000000</td>\n",
       "    </tr>\n",
       "    <tr>\n",
       "      <th>177077</th>\n",
       "      <td>0.000000e+00</td>\n",
       "      <td>1.000000</td>\n",
       "    </tr>\n",
       "    <tr>\n",
       "      <th>177078</th>\n",
       "      <td>8.660254e-01</td>\n",
       "      <td>-0.500000</td>\n",
       "    </tr>\n",
       "  </tbody>\n",
       "</table>\n",
       "<p>177079 rows × 2 columns</p>\n",
       "</div>"
      ],
      "text/plain": [
       "        issue_d_month_sine  issue_d_month_cosine\n",
       "0            -8.660254e-01              0.500000\n",
       "1             8.660254e-01             -0.500000\n",
       "2             0.000000e+00              1.000000\n",
       "3             5.000000e-01             -0.866025\n",
       "4            -5.000000e-01              0.866025\n",
       "...                    ...                   ...\n",
       "177074       -5.000000e-01              0.866025\n",
       "177075        0.000000e+00              1.000000\n",
       "177076        1.224647e-16             -1.000000\n",
       "177077        0.000000e+00              1.000000\n",
       "177078        8.660254e-01             -0.500000\n",
       "\n",
       "[177079 rows x 2 columns]"
      ]
     },
     "execution_count": 8,
     "metadata": {},
     "output_type": "execute_result"
    },
    {
     "data": {
      "application/javascript": "\n            setTimeout(function() {\n                var nbb_cell_id = 8;\n                var nbb_unformatted_code = \"sine_scaled_column = np.sin(scaled_column)\\ncosine_scaled_column = np.cos(scaled_column)\\ndata = np.stack([sine_scaled_column, cosine_scaled_column]).T\\nencoded_column = pd.DataFrame(data=data, columns=[f\\\"{column}_sine\\\", f\\\"{column}_cosine\\\"])\\nencoded_column\";\n                var nbb_formatted_code = \"sine_scaled_column = np.sin(scaled_column)\\ncosine_scaled_column = np.cos(scaled_column)\\ndata = np.stack([sine_scaled_column, cosine_scaled_column]).T\\nencoded_column = pd.DataFrame(data=data, columns=[f\\\"{column}_sine\\\", f\\\"{column}_cosine\\\"])\\nencoded_column\";\n                var nbb_cells = Jupyter.notebook.get_cells();\n                for (var i = 0; i < nbb_cells.length; ++i) {\n                    if (nbb_cells[i].input_prompt_number == nbb_cell_id) {\n                        if (nbb_cells[i].get_text() == nbb_unformatted_code) {\n                             nbb_cells[i].set_text(nbb_formatted_code);\n                        }\n                        break;\n                    }\n                }\n            }, 500);\n            ",
      "text/plain": [
       "<IPython.core.display.Javascript object>"
      ]
     },
     "metadata": {},
     "output_type": "display_data"
    }
   ],
   "source": [
    "sine_scaled_column = np.sin(scaled_column)\n",
    "cosine_scaled_column = np.cos(scaled_column)\n",
    "data = np.stack([sine_scaled_column, cosine_scaled_column]).T\n",
    "encoded_column = pd.DataFrame(data=data, columns=[f\"{column}_sine\", f\"{column}_cosine\"])\n",
    "encoded_column"
   ]
  },
  {
   "cell_type": "code",
   "execution_count": 10,
   "metadata": {},
   "outputs": [
    {
     "data": {
      "text/html": [
       "<div>\n",
       "<style scoped>\n",
       "    .dataframe tbody tr th:only-of-type {\n",
       "        vertical-align: middle;\n",
       "    }\n",
       "\n",
       "    .dataframe tbody tr th {\n",
       "        vertical-align: top;\n",
       "    }\n",
       "\n",
       "    .dataframe thead th {\n",
       "        text-align: right;\n",
       "    }\n",
       "</style>\n",
       "<table border=\"1\" class=\"dataframe\">\n",
       "  <thead>\n",
       "    <tr style=\"text-align: right;\">\n",
       "      <th></th>\n",
       "      <th>loan_amnt</th>\n",
       "      <th>funded_amnt</th>\n",
       "      <th>funded_amnt_inv</th>\n",
       "      <th>term</th>\n",
       "      <th>int_rate</th>\n",
       "      <th>installment</th>\n",
       "      <th>grade</th>\n",
       "      <th>emp_title</th>\n",
       "      <th>emp_length</th>\n",
       "      <th>annual_inc</th>\n",
       "      <th>...</th>\n",
       "      <th>total_rev_hi_lim</th>\n",
       "      <th>issue_d_year</th>\n",
       "      <th>earliest_cr_line_month</th>\n",
       "      <th>earliest_cr_line_year</th>\n",
       "      <th>last_pymnt_d_month</th>\n",
       "      <th>last_pymnt_d_year</th>\n",
       "      <th>last_credit_pull_d_month</th>\n",
       "      <th>last_credit_pull_d_year</th>\n",
       "      <th>issue_d_month_sine</th>\n",
       "      <th>issue_d_month_cosine</th>\n",
       "    </tr>\n",
       "  </thead>\n",
       "  <tbody>\n",
       "    <tr>\n",
       "      <th>0</th>\n",
       "      <td>10825.0</td>\n",
       "      <td>10825.0</td>\n",
       "      <td>10825.0</td>\n",
       "      <td>60 months</td>\n",
       "      <td>22.40</td>\n",
       "      <td>301.45</td>\n",
       "      <td>E</td>\n",
       "      <td>0.176471</td>\n",
       "      <td>10+ years</td>\n",
       "      <td>60528.0</td>\n",
       "      <td>...</td>\n",
       "      <td>10900.0</td>\n",
       "      <td>2013.0</td>\n",
       "      <td>9.0</td>\n",
       "      <td>1999.0</td>\n",
       "      <td>6.0</td>\n",
       "      <td>2015.0</td>\n",
       "      <td>1.0</td>\n",
       "      <td>2016.0</td>\n",
       "      <td>-8.660254e-01</td>\n",
       "      <td>0.500000</td>\n",
       "    </tr>\n",
       "    <tr>\n",
       "      <th>1</th>\n",
       "      <td>11325.0</td>\n",
       "      <td>11325.0</td>\n",
       "      <td>11325.0</td>\n",
       "      <td>36 months</td>\n",
       "      <td>15.80</td>\n",
       "      <td>397.04</td>\n",
       "      <td>C</td>\n",
       "      <td>0.000000</td>\n",
       "      <td>&lt; 1 year</td>\n",
       "      <td>34000.0</td>\n",
       "      <td>...</td>\n",
       "      <td>10700.0</td>\n",
       "      <td>2013.0</td>\n",
       "      <td>8.0</td>\n",
       "      <td>2004.0</td>\n",
       "      <td>9.0</td>\n",
       "      <td>2014.0</td>\n",
       "      <td>1.0</td>\n",
       "      <td>2016.0</td>\n",
       "      <td>8.660254e-01</td>\n",
       "      <td>-0.500000</td>\n",
       "    </tr>\n",
       "    <tr>\n",
       "      <th>2</th>\n",
       "      <td>8000.0</td>\n",
       "      <td>8000.0</td>\n",
       "      <td>8000.0</td>\n",
       "      <td>36 months</td>\n",
       "      <td>7.90</td>\n",
       "      <td>250.33</td>\n",
       "      <td>A</td>\n",
       "      <td>0.200000</td>\n",
       "      <td>1 year</td>\n",
       "      <td>30000.0</td>\n",
       "      <td>...</td>\n",
       "      <td>23400.0</td>\n",
       "      <td>2014.0</td>\n",
       "      <td>2.0</td>\n",
       "      <td>2001.0</td>\n",
       "      <td>9.0</td>\n",
       "      <td>2015.0</td>\n",
       "      <td>11.0</td>\n",
       "      <td>2015.0</td>\n",
       "      <td>0.000000e+00</td>\n",
       "      <td>1.000000</td>\n",
       "    </tr>\n",
       "    <tr>\n",
       "      <th>3</th>\n",
       "      <td>33425.0</td>\n",
       "      <td>33425.0</td>\n",
       "      <td>33400.0</td>\n",
       "      <td>60 months</td>\n",
       "      <td>18.99</td>\n",
       "      <td>866.88</td>\n",
       "      <td>E</td>\n",
       "      <td>0.178864</td>\n",
       "      <td>missing</td>\n",
       "      <td>76000.0</td>\n",
       "      <td>...</td>\n",
       "      <td>49100.0</td>\n",
       "      <td>2014.0</td>\n",
       "      <td>11.0</td>\n",
       "      <td>1993.0</td>\n",
       "      <td>3.0</td>\n",
       "      <td>2015.0</td>\n",
       "      <td>8.0</td>\n",
       "      <td>2015.0</td>\n",
       "      <td>5.000000e-01</td>\n",
       "      <td>-0.866025</td>\n",
       "    </tr>\n",
       "    <tr>\n",
       "      <th>4</th>\n",
       "      <td>35000.0</td>\n",
       "      <td>35000.0</td>\n",
       "      <td>35000.0</td>\n",
       "      <td>36 months</td>\n",
       "      <td>10.99</td>\n",
       "      <td>1145.69</td>\n",
       "      <td>B</td>\n",
       "      <td>0.000000</td>\n",
       "      <td>10+ years</td>\n",
       "      <td>110000.0</td>\n",
       "      <td>...</td>\n",
       "      <td>75000.0</td>\n",
       "      <td>2013.0</td>\n",
       "      <td>10.0</td>\n",
       "      <td>1992.0</td>\n",
       "      <td>10.0</td>\n",
       "      <td>2015.0</td>\n",
       "      <td>1.0</td>\n",
       "      <td>2016.0</td>\n",
       "      <td>-5.000000e-01</td>\n",
       "      <td>0.866025</td>\n",
       "    </tr>\n",
       "    <tr>\n",
       "      <th>...</th>\n",
       "      <td>...</td>\n",
       "      <td>...</td>\n",
       "      <td>...</td>\n",
       "      <td>...</td>\n",
       "      <td>...</td>\n",
       "      <td>...</td>\n",
       "      <td>...</td>\n",
       "      <td>...</td>\n",
       "      <td>...</td>\n",
       "      <td>...</td>\n",
       "      <td>...</td>\n",
       "      <td>...</td>\n",
       "      <td>...</td>\n",
       "      <td>...</td>\n",
       "      <td>...</td>\n",
       "      <td>...</td>\n",
       "      <td>...</td>\n",
       "      <td>...</td>\n",
       "      <td>...</td>\n",
       "      <td>...</td>\n",
       "      <td>...</td>\n",
       "    </tr>\n",
       "    <tr>\n",
       "      <th>177074</th>\n",
       "      <td>5850.0</td>\n",
       "      <td>5850.0</td>\n",
       "      <td>5850.0</td>\n",
       "      <td>36 months</td>\n",
       "      <td>15.20</td>\n",
       "      <td>203.37</td>\n",
       "      <td>D</td>\n",
       "      <td>0.000000</td>\n",
       "      <td>10+ years</td>\n",
       "      <td>23500.0</td>\n",
       "      <td>...</td>\n",
       "      <td>2100.0</td>\n",
       "      <td>2010.0</td>\n",
       "      <td>3.0</td>\n",
       "      <td>2002.0</td>\n",
       "      <td>1.0</td>\n",
       "      <td>2014.0</td>\n",
       "      <td>1.0</td>\n",
       "      <td>2016.0</td>\n",
       "      <td>-5.000000e-01</td>\n",
       "      <td>0.866025</td>\n",
       "    </tr>\n",
       "    <tr>\n",
       "      <th>177075</th>\n",
       "      <td>4800.0</td>\n",
       "      <td>4800.0</td>\n",
       "      <td>4800.0</td>\n",
       "      <td>36 months</td>\n",
       "      <td>21.00</td>\n",
       "      <td>180.85</td>\n",
       "      <td>E</td>\n",
       "      <td>0.000000</td>\n",
       "      <td>&lt; 1 year</td>\n",
       "      <td>50000.0</td>\n",
       "      <td>...</td>\n",
       "      <td>5200.0</td>\n",
       "      <td>2013.0</td>\n",
       "      <td>9.0</td>\n",
       "      <td>1996.0</td>\n",
       "      <td>11.0</td>\n",
       "      <td>2015.0</td>\n",
       "      <td>1.0</td>\n",
       "      <td>2016.0</td>\n",
       "      <td>0.000000e+00</td>\n",
       "      <td>1.000000</td>\n",
       "    </tr>\n",
       "    <tr>\n",
       "      <th>177076</th>\n",
       "      <td>4800.0</td>\n",
       "      <td>4800.0</td>\n",
       "      <td>4800.0</td>\n",
       "      <td>36 months</td>\n",
       "      <td>5.42</td>\n",
       "      <td>144.77</td>\n",
       "      <td>A</td>\n",
       "      <td>0.000000</td>\n",
       "      <td>1 year</td>\n",
       "      <td>45000.0</td>\n",
       "      <td>...</td>\n",
       "      <td>23800.0</td>\n",
       "      <td>2011.0</td>\n",
       "      <td>4.0</td>\n",
       "      <td>1996.0</td>\n",
       "      <td>8.0</td>\n",
       "      <td>2014.0</td>\n",
       "      <td>8.0</td>\n",
       "      <td>2014.0</td>\n",
       "      <td>1.224647e-16</td>\n",
       "      <td>-1.000000</td>\n",
       "    </tr>\n",
       "    <tr>\n",
       "      <th>177077</th>\n",
       "      <td>20050.0</td>\n",
       "      <td>20050.0</td>\n",
       "      <td>20050.0</td>\n",
       "      <td>60 months</td>\n",
       "      <td>21.00</td>\n",
       "      <td>542.42</td>\n",
       "      <td>E</td>\n",
       "      <td>0.000000</td>\n",
       "      <td>10+ years</td>\n",
       "      <td>75000.0</td>\n",
       "      <td>...</td>\n",
       "      <td>28700.0</td>\n",
       "      <td>2013.0</td>\n",
       "      <td>3.0</td>\n",
       "      <td>1997.0</td>\n",
       "      <td>1.0</td>\n",
       "      <td>2015.0</td>\n",
       "      <td>1.0</td>\n",
       "      <td>2016.0</td>\n",
       "      <td>0.000000e+00</td>\n",
       "      <td>1.000000</td>\n",
       "    </tr>\n",
       "    <tr>\n",
       "      <th>177078</th>\n",
       "      <td>15000.0</td>\n",
       "      <td>15000.0</td>\n",
       "      <td>15000.0</td>\n",
       "      <td>36 months</td>\n",
       "      <td>11.14</td>\n",
       "      <td>492.08</td>\n",
       "      <td>B</td>\n",
       "      <td>0.000000</td>\n",
       "      <td>10+ years</td>\n",
       "      <td>90800.0</td>\n",
       "      <td>...</td>\n",
       "      <td>28200.0</td>\n",
       "      <td>2013.0</td>\n",
       "      <td>3.0</td>\n",
       "      <td>2004.0</td>\n",
       "      <td>7.0</td>\n",
       "      <td>2013.0</td>\n",
       "      <td>7.0</td>\n",
       "      <td>2013.0</td>\n",
       "      <td>8.660254e-01</td>\n",
       "      <td>-0.500000</td>\n",
       "    </tr>\n",
       "  </tbody>\n",
       "</table>\n",
       "<p>177079 rows × 46 columns</p>\n",
       "</div>"
      ],
      "text/plain": [
       "        loan_amnt  funded_amnt  funded_amnt_inv        term  int_rate  \\\n",
       "0         10825.0      10825.0          10825.0   60 months     22.40   \n",
       "1         11325.0      11325.0          11325.0   36 months     15.80   \n",
       "2          8000.0       8000.0           8000.0   36 months      7.90   \n",
       "3         33425.0      33425.0          33400.0   60 months     18.99   \n",
       "4         35000.0      35000.0          35000.0   36 months     10.99   \n",
       "...           ...          ...              ...         ...       ...   \n",
       "177074     5850.0       5850.0           5850.0   36 months     15.20   \n",
       "177075     4800.0       4800.0           4800.0   36 months     21.00   \n",
       "177076     4800.0       4800.0           4800.0   36 months      5.42   \n",
       "177077    20050.0      20050.0          20050.0   60 months     21.00   \n",
       "177078    15000.0      15000.0          15000.0   36 months     11.14   \n",
       "\n",
       "        installment grade  emp_title emp_length  annual_inc  ...  \\\n",
       "0            301.45     E   0.176471  10+ years     60528.0  ...   \n",
       "1            397.04     C   0.000000   < 1 year     34000.0  ...   \n",
       "2            250.33     A   0.200000     1 year     30000.0  ...   \n",
       "3            866.88     E   0.178864    missing     76000.0  ...   \n",
       "4           1145.69     B   0.000000  10+ years    110000.0  ...   \n",
       "...             ...   ...        ...        ...         ...  ...   \n",
       "177074       203.37     D   0.000000  10+ years     23500.0  ...   \n",
       "177075       180.85     E   0.000000   < 1 year     50000.0  ...   \n",
       "177076       144.77     A   0.000000     1 year     45000.0  ...   \n",
       "177077       542.42     E   0.000000  10+ years     75000.0  ...   \n",
       "177078       492.08     B   0.000000  10+ years     90800.0  ...   \n",
       "\n",
       "       total_rev_hi_lim issue_d_year  earliest_cr_line_month  \\\n",
       "0               10900.0       2013.0                     9.0   \n",
       "1               10700.0       2013.0                     8.0   \n",
       "2               23400.0       2014.0                     2.0   \n",
       "3               49100.0       2014.0                    11.0   \n",
       "4               75000.0       2013.0                    10.0   \n",
       "...                 ...          ...                     ...   \n",
       "177074           2100.0       2010.0                     3.0   \n",
       "177075           5200.0       2013.0                     9.0   \n",
       "177076          23800.0       2011.0                     4.0   \n",
       "177077          28700.0       2013.0                     3.0   \n",
       "177078          28200.0       2013.0                     3.0   \n",
       "\n",
       "        earliest_cr_line_year  last_pymnt_d_month last_pymnt_d_year  \\\n",
       "0                      1999.0                 6.0            2015.0   \n",
       "1                      2004.0                 9.0            2014.0   \n",
       "2                      2001.0                 9.0            2015.0   \n",
       "3                      1993.0                 3.0            2015.0   \n",
       "4                      1992.0                10.0            2015.0   \n",
       "...                       ...                 ...               ...   \n",
       "177074                 2002.0                 1.0            2014.0   \n",
       "177075                 1996.0                11.0            2015.0   \n",
       "177076                 1996.0                 8.0            2014.0   \n",
       "177077                 1997.0                 1.0            2015.0   \n",
       "177078                 2004.0                 7.0            2013.0   \n",
       "\n",
       "       last_credit_pull_d_month  last_credit_pull_d_year  issue_d_month_sine  \\\n",
       "0                           1.0                   2016.0       -8.660254e-01   \n",
       "1                           1.0                   2016.0        8.660254e-01   \n",
       "2                          11.0                   2015.0        0.000000e+00   \n",
       "3                           8.0                   2015.0        5.000000e-01   \n",
       "4                           1.0                   2016.0       -5.000000e-01   \n",
       "...                         ...                      ...                 ...   \n",
       "177074                      1.0                   2016.0       -5.000000e-01   \n",
       "177075                      1.0                   2016.0        0.000000e+00   \n",
       "177076                      8.0                   2014.0        1.224647e-16   \n",
       "177077                      1.0                   2016.0        0.000000e+00   \n",
       "177078                      7.0                   2013.0        8.660254e-01   \n",
       "\n",
       "        issue_d_month_cosine  \n",
       "0                   0.500000  \n",
       "1                  -0.500000  \n",
       "2                   1.000000  \n",
       "3                  -0.866025  \n",
       "4                   0.866025  \n",
       "...                      ...  \n",
       "177074              0.866025  \n",
       "177075              1.000000  \n",
       "177076             -1.000000  \n",
       "177077              1.000000  \n",
       "177078             -0.500000  \n",
       "\n",
       "[177079 rows x 46 columns]"
      ]
     },
     "execution_count": 10,
     "metadata": {},
     "output_type": "execute_result"
    },
    {
     "data": {
      "application/javascript": "\n            setTimeout(function() {\n                var nbb_cell_id = 10;\n                var nbb_unformatted_code = \"X = pd.concat([X, encoded_column], axis=1).drop(columns=[column])\\nX\";\n                var nbb_formatted_code = \"X = pd.concat([X, encoded_column], axis=1).drop(columns=[column])\\nX\";\n                var nbb_cells = Jupyter.notebook.get_cells();\n                for (var i = 0; i < nbb_cells.length; ++i) {\n                    if (nbb_cells[i].input_prompt_number == nbb_cell_id) {\n                        if (nbb_cells[i].get_text() == nbb_unformatted_code) {\n                             nbb_cells[i].set_text(nbb_formatted_code);\n                        }\n                        break;\n                    }\n                }\n            }, 500);\n            ",
      "text/plain": [
       "<IPython.core.display.Javascript object>"
      ]
     },
     "metadata": {},
     "output_type": "display_data"
    }
   ],
   "source": [
    "X = pd.concat([X, encoded_column], axis=1).drop(columns=[column])\n",
    "X"
   ]
  }
 ],
 "metadata": {
  "kernelspec": {
   "display_name": "Python 3.10.0 ('default_prediction')",
   "language": "python",
   "name": "python3"
  },
  "language_info": {
   "codemirror_mode": {
    "name": "ipython",
    "version": 3
   },
   "file_extension": ".py",
   "mimetype": "text/x-python",
   "name": "python",
   "nbconvert_exporter": "python",
   "pygments_lexer": "ipython3",
   "version": "3.10.0"
  },
  "orig_nbformat": 4,
  "vscode": {
   "interpreter": {
    "hash": "1e1f6d670a398f79a37d96720a30f8a8a62dff7decaa5b825d061b7e0997c08b"
   }
  }
 },
 "nbformat": 4,
 "nbformat_minor": 2
}
