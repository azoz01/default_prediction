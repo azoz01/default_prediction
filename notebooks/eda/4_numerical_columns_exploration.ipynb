{
 "cells": [
  {
   "cell_type": "code",
   "execution_count": 4,
   "metadata": {},
   "outputs": [],
   "source": [
    "%load_ext autoreload\n",
    "%autoreload 2"
   ]
  },
  {
   "cell_type": "code",
   "execution_count": 5,
   "metadata": {},
   "outputs": [],
   "source": [
    "import os\n",
    "os.chdir(\"../..\")"
   ]
  },
  {
   "cell_type": "code",
   "execution_count": 6,
   "metadata": {},
   "outputs": [],
   "source": [
    "import pandas as pd\n",
    "from pandas_profiling import ProfileReport\n",
    "import matplotlib.pyplot as plt\n",
    "import utils.constants as constants"
   ]
  },
  {
   "cell_type": "code",
   "execution_count": 7,
   "metadata": {},
   "outputs": [
    {
     "name": "stderr",
     "output_type": "stream",
     "text": [
      "/tmp/ipykernel_102475/2311671977.py:1: DtypeWarning: Columns (19,55) have mixed types. Specify dtype option on import or set low_memory=False.\n",
      "  df = pd.read_csv(\"resources/data/raw/loan.csv\")\n"
     ]
    }
   ],
   "source": [
    "df = pd.read_csv(\"resources/data/raw/loan.csv\")"
   ]
  },
  {
   "cell_type": "code",
   "execution_count": 8,
   "metadata": {},
   "outputs": [
    {
     "data": {
      "text/plain": [
       "(887379, 45)"
      ]
     },
     "execution_count": 8,
     "metadata": {},
     "output_type": "execute_result"
    }
   ],
   "source": [
    "colummns_to_drop = (\n",
    "    constants.CONSTANT_COLUMNS + \n",
    "    constants.NULL_COLUMNS + \n",
    "    constants.HIGH_CARDINALITY_COLUMNS +\n",
    "    constants.NOT_ALLOWED_COLUMNS +\n",
    "    constants.DESCRIPTION_COLUMNS\n",
    ")\n",
    "df = df.drop(columns=colummns_to_drop)\n",
    "df.shape"
   ]
  },
  {
   "cell_type": "code",
   "execution_count": 9,
   "metadata": {},
   "outputs": [
    {
     "name": "stdout",
     "output_type": "stream",
     "text": [
      "issue_d\n",
      "earliest_cr_line\n",
      "last_pymnt_d\n",
      "last_credit_pull_d\n"
     ]
    }
   ],
   "source": [
    "for col in constants.DATE_COLUMNS_TO_SPLIT:\n",
    "    print(col)\n",
    "    month_col_name = f\"{col}_month\"\n",
    "    year_col_name = f\"{col}_year\"\n",
    "    splitted_date_cols = (\n",
    "        df[col].\n",
    "        str.\n",
    "        split(\"-\", expand=True).\n",
    "        rename(columns={0: month_col_name, 1: year_col_name})\n",
    "    )\n",
    "    splitted_date_cols[month_col_name] = splitted_date_cols[month_col_name].map(constants.MONTHS_TO_NUMS_MAPPING)\n",
    "    df = pd.concat([df, splitted_date_cols], axis=1)\n",
    "    df = df.drop(columns=[col])"
   ]
  },
  {
   "cell_type": "code",
   "execution_count": 7,
   "metadata": {},
   "outputs": [
    {
     "data": {
      "application/json": {
       "ascii": false,
       "bar_format": null,
       "colour": null,
       "elapsed": 0.023888111114501953,
       "initial": 0,
       "n": 0,
       "ncols": null,
       "nrows": null,
       "postfix": null,
       "prefix": "Summarize dataset",
       "rate": null,
       "total": 5,
       "unit": "it",
       "unit_divisor": 1000,
       "unit_scale": false
      },
      "application/vnd.jupyter.widget-view+json": {
       "model_id": "4c6b0291a3164a6fa59bf15b30f62d75",
       "version_major": 2,
       "version_minor": 0
      },
      "text/plain": [
       "Summarize dataset:   0%|          | 0/5 [00:00<?, ?it/s]"
      ]
     },
     "metadata": {},
     "output_type": "display_data"
    },
    {
     "data": {
      "application/json": {
       "ascii": false,
       "bar_format": null,
       "colour": null,
       "elapsed": 0.01934671401977539,
       "initial": 0,
       "n": 0,
       "ncols": null,
       "nrows": null,
       "postfix": null,
       "prefix": "Generate report structure",
       "rate": null,
       "total": 1,
       "unit": "it",
       "unit_divisor": 1000,
       "unit_scale": false
      },
      "application/vnd.jupyter.widget-view+json": {
       "model_id": "85311692d8d14fd68db8feee99e5ab5b",
       "version_major": 2,
       "version_minor": 0
      },
      "text/plain": [
       "Generate report structure:   0%|          | 0/1 [00:00<?, ?it/s]"
      ]
     },
     "metadata": {},
     "output_type": "display_data"
    },
    {
     "data": {
      "application/json": {
       "ascii": false,
       "bar_format": null,
       "colour": null,
       "elapsed": 0.02833843231201172,
       "initial": 0,
       "n": 0,
       "ncols": null,
       "nrows": null,
       "postfix": null,
       "prefix": "Render HTML",
       "rate": null,
       "total": 1,
       "unit": "it",
       "unit_divisor": 1000,
       "unit_scale": false
      },
      "application/vnd.jupyter.widget-view+json": {
       "model_id": "37004fba91784a589c126d34e728c65b",
       "version_major": 2,
       "version_minor": 0
      },
      "text/plain": [
       "Render HTML:   0%|          | 0/1 [00:00<?, ?it/s]"
      ]
     },
     "metadata": {},
     "output_type": "display_data"
    },
    {
     "data": {
      "application/json": {
       "ascii": false,
       "bar_format": null,
       "colour": null,
       "elapsed": 0.020354032516479492,
       "initial": 0,
       "n": 0,
       "ncols": null,
       "nrows": null,
       "postfix": null,
       "prefix": "Export report to file",
       "rate": null,
       "total": 1,
       "unit": "it",
       "unit_divisor": 1000,
       "unit_scale": false
      },
      "application/vnd.jupyter.widget-view+json": {
       "model_id": "68b5ac9959cb42f0b9719b706ecc507d",
       "version_major": 2,
       "version_minor": 0
      },
      "text/plain": [
       "Export report to file:   0%|          | 0/1 [00:00<?, ?it/s]"
      ]
     },
     "metadata": {},
     "output_type": "display_data"
    }
   ],
   "source": [
    "ProfileReport(df, \"Initial EDA\").to_file(\"notebooks/eda/profiler.html\")"
   ]
  },
  {
   "cell_type": "markdown",
   "metadata": {},
   "source": [
    "Columns to special treatment:\n",
    "* `mths_since_last_delinq` - categorize + add missing category\n",
    "* `mths_since_last_record` - categorize + add missing category\n",
    "* `collections_12_mths_ex_med` - categorize + add missing category\n",
    "* `issue_d_month` -> sin + cos transformation\n",
    "* `earliest_cr_line_month` -> sin + cos transformation\n",
    "* `last_pymnt_d_month` -> sin + cos transformation\n",
    "* `last_credit_pull_d_month` -> sin + cos transformation\n",
    "* `issue_d_year` -> scale to $[0, 1]$\n",
    "* `earliest_cr_line_year` -> scale to $[0, 1]$\n",
    "* `last_pymnt_d_year` -> scale to $[0, 1]$\n",
    "* `last_credit_pull_d_year` -> scale to $[0, 1]$"
   ]
  },
  {
   "cell_type": "markdown",
   "metadata": {},
   "source": [
    "Columns to drop outliers:\n",
    "* `annual_inc`\n",
    "* `dti`\n",
    "* `open_acc`\n",
    "* `pub_rec`\n",
    "* `revol_bal`\n",
    "* `revol_util`\n",
    "* `total_acc`\n",
    "* `total_pymnt`\n",
    "* `total_pymnt_inv`\n",
    "* `total_rec_prncp`\n",
    "* `total_rec_late_fee`\n",
    "* `total_rec_int`\n",
    "* `recoveries`\n",
    "* `collection_recovery_fee`\n",
    "* `last_pymnt_amnt`\n",
    "* `tot_coll_amt`\n",
    "* `tot_cur_bal`\n",
    "* `total_rev_hi_lim`"
   ]
  },
  {
   "cell_type": "markdown",
   "metadata": {},
   "source": [
    "Columns to reduce skewness:\n",
    "* `loan_amnt`\n",
    "* `funded_amnt`\n",
    "* `funded_amnt_inv`\n",
    "* `int_rate`\n",
    "* `annual_inc`\n",
    "* `revol_bal`\n",
    "* `total_pymnt`\n",
    "* `dti`\n",
    "* `total_pymnt`\n",
    "* `total_pymnt_inv`\n",
    "* `total_rec_prncp`\n",
    "* `total_rec_int`\n",
    "* `total_rec_late_fee`\n",
    "* `recoveries`\n",
    "* `collection_recovery_fee`\n",
    "* `last_pymnt_amnt`\n",
    "* `tot_coll_amt`\n",
    "* `tot_cur_bal`\n",
    "* `total_rev_hi_lim`"
   ]
  },
  {
   "cell_type": "markdown",
   "metadata": {},
   "source": [
    "Numerical columns which weren't mentioned:\n",
    "* `delinq_2yrs`\n",
    "* `inq_last_6mths`\n",
    "* `collections_12_mths_ex_med`\n",
    "* `acc_now_delinq`"
   ]
  },
  {
   "cell_type": "code",
   "execution_count": 1,
   "metadata": {},
   "outputs": [],
   "source": [
    "from scipy import stats\n",
    "\n",
    "def get_outliers_thresholds(column, only_positive=False):\n",
    "    column = column.copy()\n",
    "    column = column.dropna()\n",
    "    iqr = stats.iqr(column, nan_policy=\"raise\")\n",
    "    median = column.median()\n",
    "    lower_bound = median - 1.5*iqr\n",
    "    if only_positive:\n",
    "        lower_bound = max(lower_bound, 0)\n",
    "    upper_bound = median + 1.5*iqr\n",
    "    if only_positive:\n",
    "        upper_bound = max(upper_bound, 0)\n",
    "    return lower_bound, upper_bound\n",
    "\n",
    "def cut_outliers(column):\n",
    "    column = column.copy()\n",
    "    lower_bound, upper_bound = get_outliers_thresholds(column, only_positive=True)\n",
    "    column.loc[column < lower_bound] = lower_bound\n",
    "    column.loc[column > upper_bound] = upper_bound\n",
    "    return column"
   ]
  },
  {
   "cell_type": "code",
   "execution_count": 2,
   "metadata": {},
   "outputs": [],
   "source": [
    "cols_to_drop_outliers = [\n",
    "    \"annual_inc\",\n",
    "    \"dti\",\n",
    "    \"open_acc\",\n",
    "    \"pub_rec\",\n",
    "    \"revol_bal\",\n",
    "    \"revol_util\",\n",
    "    \"total_acc\",\n",
    "    \"total_pymnt\",\n",
    "    \"total_pymnt_inv\",\n",
    "    \"total_rec_prncp\",\n",
    "    \"total_rec_late_fee\",\n",
    "    \"total_rec_int\",\n",
    "    \"recoveries\",\n",
    "    \"collection_recovery_fee\",\n",
    "    \"last_pymnt_amnt\",\n",
    "    \"tot_coll_amt\",\n",
    "    \"tot_cur_bal\",\n",
    "    \"total_rev_hi_lim\"\n",
    "]"
   ]
  },
  {
   "cell_type": "code",
   "execution_count": 10,
   "metadata": {},
   "outputs": [],
   "source": [
    "df_out = df[cols_to_drop_outliers]"
   ]
  },
  {
   "cell_type": "code",
   "execution_count": 13,
   "metadata": {},
   "outputs": [
    {
     "name": "stderr",
     "output_type": "stream",
     "text": [
      "/tmp/ipykernel_102475/1350105751.py:2: SettingWithCopyWarning: \n",
      "A value is trying to be set on a copy of a slice from a DataFrame.\n",
      "Try using .loc[row_indexer,col_indexer] = value instead\n",
      "\n",
      "See the caveats in the documentation: https://pandas.pydata.org/pandas-docs/stable/user_guide/indexing.html#returning-a-view-versus-a-copy\n",
      "  df_out.loc[:, col] = cut_outliers(df_out[col])\n",
      "/tmp/ipykernel_102475/1350105751.py:2: SettingWithCopyWarning: \n",
      "A value is trying to be set on a copy of a slice from a DataFrame.\n",
      "Try using .loc[row_indexer,col_indexer] = value instead\n",
      "\n",
      "See the caveats in the documentation: https://pandas.pydata.org/pandas-docs/stable/user_guide/indexing.html#returning-a-view-versus-a-copy\n",
      "  df_out.loc[:, col] = cut_outliers(df_out[col])\n",
      "/tmp/ipykernel_102475/1350105751.py:2: SettingWithCopyWarning: \n",
      "A value is trying to be set on a copy of a slice from a DataFrame.\n",
      "Try using .loc[row_indexer,col_indexer] = value instead\n",
      "\n",
      "See the caveats in the documentation: https://pandas.pydata.org/pandas-docs/stable/user_guide/indexing.html#returning-a-view-versus-a-copy\n",
      "  df_out.loc[:, col] = cut_outliers(df_out[col])\n",
      "/tmp/ipykernel_102475/1350105751.py:2: SettingWithCopyWarning: \n",
      "A value is trying to be set on a copy of a slice from a DataFrame.\n",
      "Try using .loc[row_indexer,col_indexer] = value instead\n",
      "\n",
      "See the caveats in the documentation: https://pandas.pydata.org/pandas-docs/stable/user_guide/indexing.html#returning-a-view-versus-a-copy\n",
      "  df_out.loc[:, col] = cut_outliers(df_out[col])\n",
      "/tmp/ipykernel_102475/1350105751.py:2: SettingWithCopyWarning: \n",
      "A value is trying to be set on a copy of a slice from a DataFrame.\n",
      "Try using .loc[row_indexer,col_indexer] = value instead\n",
      "\n",
      "See the caveats in the documentation: https://pandas.pydata.org/pandas-docs/stable/user_guide/indexing.html#returning-a-view-versus-a-copy\n",
      "  df_out.loc[:, col] = cut_outliers(df_out[col])\n",
      "/tmp/ipykernel_102475/1350105751.py:2: SettingWithCopyWarning: \n",
      "A value is trying to be set on a copy of a slice from a DataFrame.\n",
      "Try using .loc[row_indexer,col_indexer] = value instead\n",
      "\n",
      "See the caveats in the documentation: https://pandas.pydata.org/pandas-docs/stable/user_guide/indexing.html#returning-a-view-versus-a-copy\n",
      "  df_out.loc[:, col] = cut_outliers(df_out[col])\n",
      "/tmp/ipykernel_102475/1350105751.py:2: SettingWithCopyWarning: \n",
      "A value is trying to be set on a copy of a slice from a DataFrame.\n",
      "Try using .loc[row_indexer,col_indexer] = value instead\n",
      "\n",
      "See the caveats in the documentation: https://pandas.pydata.org/pandas-docs/stable/user_guide/indexing.html#returning-a-view-versus-a-copy\n",
      "  df_out.loc[:, col] = cut_outliers(df_out[col])\n",
      "/tmp/ipykernel_102475/1350105751.py:2: SettingWithCopyWarning: \n",
      "A value is trying to be set on a copy of a slice from a DataFrame.\n",
      "Try using .loc[row_indexer,col_indexer] = value instead\n",
      "\n",
      "See the caveats in the documentation: https://pandas.pydata.org/pandas-docs/stable/user_guide/indexing.html#returning-a-view-versus-a-copy\n",
      "  df_out.loc[:, col] = cut_outliers(df_out[col])\n",
      "/tmp/ipykernel_102475/1350105751.py:2: SettingWithCopyWarning: \n",
      "A value is trying to be set on a copy of a slice from a DataFrame.\n",
      "Try using .loc[row_indexer,col_indexer] = value instead\n",
      "\n",
      "See the caveats in the documentation: https://pandas.pydata.org/pandas-docs/stable/user_guide/indexing.html#returning-a-view-versus-a-copy\n",
      "  df_out.loc[:, col] = cut_outliers(df_out[col])\n",
      "/tmp/ipykernel_102475/1350105751.py:2: SettingWithCopyWarning: \n",
      "A value is trying to be set on a copy of a slice from a DataFrame.\n",
      "Try using .loc[row_indexer,col_indexer] = value instead\n",
      "\n",
      "See the caveats in the documentation: https://pandas.pydata.org/pandas-docs/stable/user_guide/indexing.html#returning-a-view-versus-a-copy\n",
      "  df_out.loc[:, col] = cut_outliers(df_out[col])\n",
      "/tmp/ipykernel_102475/1350105751.py:2: SettingWithCopyWarning: \n",
      "A value is trying to be set on a copy of a slice from a DataFrame.\n",
      "Try using .loc[row_indexer,col_indexer] = value instead\n",
      "\n",
      "See the caveats in the documentation: https://pandas.pydata.org/pandas-docs/stable/user_guide/indexing.html#returning-a-view-versus-a-copy\n",
      "  df_out.loc[:, col] = cut_outliers(df_out[col])\n",
      "/tmp/ipykernel_102475/1350105751.py:2: SettingWithCopyWarning: \n",
      "A value is trying to be set on a copy of a slice from a DataFrame.\n",
      "Try using .loc[row_indexer,col_indexer] = value instead\n",
      "\n",
      "See the caveats in the documentation: https://pandas.pydata.org/pandas-docs/stable/user_guide/indexing.html#returning-a-view-versus-a-copy\n",
      "  df_out.loc[:, col] = cut_outliers(df_out[col])\n",
      "/tmp/ipykernel_102475/1350105751.py:2: SettingWithCopyWarning: \n",
      "A value is trying to be set on a copy of a slice from a DataFrame.\n",
      "Try using .loc[row_indexer,col_indexer] = value instead\n",
      "\n",
      "See the caveats in the documentation: https://pandas.pydata.org/pandas-docs/stable/user_guide/indexing.html#returning-a-view-versus-a-copy\n",
      "  df_out.loc[:, col] = cut_outliers(df_out[col])\n",
      "/tmp/ipykernel_102475/1350105751.py:2: SettingWithCopyWarning: \n",
      "A value is trying to be set on a copy of a slice from a DataFrame.\n",
      "Try using .loc[row_indexer,col_indexer] = value instead\n",
      "\n",
      "See the caveats in the documentation: https://pandas.pydata.org/pandas-docs/stable/user_guide/indexing.html#returning-a-view-versus-a-copy\n",
      "  df_out.loc[:, col] = cut_outliers(df_out[col])\n",
      "/tmp/ipykernel_102475/1350105751.py:2: SettingWithCopyWarning: \n",
      "A value is trying to be set on a copy of a slice from a DataFrame.\n",
      "Try using .loc[row_indexer,col_indexer] = value instead\n",
      "\n",
      "See the caveats in the documentation: https://pandas.pydata.org/pandas-docs/stable/user_guide/indexing.html#returning-a-view-versus-a-copy\n",
      "  df_out.loc[:, col] = cut_outliers(df_out[col])\n",
      "/tmp/ipykernel_102475/1350105751.py:2: SettingWithCopyWarning: \n",
      "A value is trying to be set on a copy of a slice from a DataFrame.\n",
      "Try using .loc[row_indexer,col_indexer] = value instead\n",
      "\n",
      "See the caveats in the documentation: https://pandas.pydata.org/pandas-docs/stable/user_guide/indexing.html#returning-a-view-versus-a-copy\n",
      "  df_out.loc[:, col] = cut_outliers(df_out[col])\n",
      "/tmp/ipykernel_102475/1350105751.py:2: SettingWithCopyWarning: \n",
      "A value is trying to be set on a copy of a slice from a DataFrame.\n",
      "Try using .loc[row_indexer,col_indexer] = value instead\n",
      "\n",
      "See the caveats in the documentation: https://pandas.pydata.org/pandas-docs/stable/user_guide/indexing.html#returning-a-view-versus-a-copy\n",
      "  df_out.loc[:, col] = cut_outliers(df_out[col])\n",
      "/tmp/ipykernel_102475/1350105751.py:2: SettingWithCopyWarning: \n",
      "A value is trying to be set on a copy of a slice from a DataFrame.\n",
      "Try using .loc[row_indexer,col_indexer] = value instead\n",
      "\n",
      "See the caveats in the documentation: https://pandas.pydata.org/pandas-docs/stable/user_guide/indexing.html#returning-a-view-versus-a-copy\n",
      "  df_out.loc[:, col] = cut_outliers(df_out[col])\n"
     ]
    }
   ],
   "source": [
    "for col in cols_to_drop_outliers:\n",
    "    df_out.loc[:, col] = cut_outliers(df_out[col])"
   ]
  },
  {
   "cell_type": "code",
   "execution_count": 14,
   "metadata": {},
   "outputs": [
    {
     "data": {
      "text/plain": [
       "annual_inc                 0.559431\n",
       "dti                        0.175679\n",
       "open_acc                   0.384351\n",
       "pub_rec                    0.000000\n",
       "revol_bal                  0.651917\n",
       "revol_util                -0.171726\n",
       "total_acc                  0.359886\n",
       "total_pymnt                0.762504\n",
       "total_pymnt_inv            0.763321\n",
       "total_rec_prncp            0.808906\n",
       "total_rec_late_fee         0.000000\n",
       "total_rec_int              0.747996\n",
       "recoveries                 0.000000\n",
       "collection_recovery_fee    0.000000\n",
       "last_pymnt_amnt            0.690782\n",
       "tot_coll_amt               0.000000\n",
       "tot_cur_bal                0.757966\n",
       "total_rev_hi_lim           0.652000\n",
       "dtype: float64"
      ]
     },
     "execution_count": 14,
     "metadata": {},
     "output_type": "execute_result"
    }
   ],
   "source": [
    "df_out.skew()"
   ]
  }
 ],
 "metadata": {
  "kernelspec": {
   "display_name": "Python 3.10.0 ('default_prediction')",
   "language": "python",
   "name": "python3"
  },
  "language_info": {
   "codemirror_mode": {
    "name": "ipython",
    "version": 3
   },
   "file_extension": ".py",
   "mimetype": "text/x-python",
   "name": "python",
   "nbconvert_exporter": "python",
   "pygments_lexer": "ipython3",
   "version": "3.10.0"
  },
  "orig_nbformat": 4,
  "vscode": {
   "interpreter": {
    "hash": "1e1f6d670a398f79a37d96720a30f8a8a62dff7decaa5b825d061b7e0997c08b"
   }
  }
 },
 "nbformat": 4,
 "nbformat_minor": 2
}
