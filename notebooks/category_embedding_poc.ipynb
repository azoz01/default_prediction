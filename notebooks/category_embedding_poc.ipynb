{
 "cells": [
  {
   "cell_type": "code",
   "execution_count": null,
   "metadata": {},
   "outputs": [],
   "source": [
    "import os\n",
    "os.chdir(\"..\")"
   ]
  },
  {
   "cell_type": "code",
   "execution_count": null,
   "metadata": {},
   "outputs": [],
   "source": [
    "import fastai\n",
    "from pathlib import Path\n",
    "from typing import List, Tuple, Union\n",
    "from sklearn.base import TransformerMixin\n",
    "import pandas as pd\n",
    "from imblearn.over_sampling import RandomOverSampler\n",
    "from utils.io import load_data\n",
    "from fastai.tabular.all import *"
   ]
  },
  {
   "cell_type": "code",
   "execution_count": null,
   "metadata": {},
   "outputs": [],
   "source": [
    "X_train, y_train, X_valid, y_valid, _, _ = load_data(Path(\"resources/data/transformed_numerical_columns\"))"
   ]
  },
  {
   "cell_type": "code",
   "execution_count": null,
   "metadata": {},
   "outputs": [],
   "source": [
    "embedder_n_epochs = 5\n",
    "embedder_num_layers = 3\n",
    "target_name = \"loan_status\"\n",
    "valid_sample_frac = .3"
   ]
  },
  {
   "cell_type": "code",
   "execution_count": null,
   "metadata": {},
   "outputs": [],
   "source": [
    "ros = RandomOverSampler()\n",
    "X_train, y_train = ros.fit_resample(X_train, y_train)"
   ]
  },
  {
   "cell_type": "code",
   "execution_count": null,
   "metadata": {},
   "outputs": [],
   "source": [
    "df_train = pd.concat([X_train, y_train], axis=1)\n",
    "categorical_columns = X_train.select_dtypes(\n",
    "    exclude=[\"float64\"]\n",
    ").columns.values.tolist()\n",
    "continuous_columns = X_train.select_dtypes(\n",
    "    include=[\"float64\"]\n",
    ").columns.values.tolist()"
   ]
  },
  {
   "cell_type": "code",
   "execution_count": null,
   "metadata": {},
   "outputs": [],
   "source": [
    "tabular_pandas = TabularDataLoaders.from_df(\n",
    "    df_train,\n",
    "    procs=[fastai.tabular.all.Categorify],\n",
    "    cat_names=categorical_columns,\n",
    "    cont_names=continuous_columns,\n",
    "    y_names=target_name,\n",
    "    batchsize=2048,\n",
    "    drop_last=False,\n",
    "    valid_idx=df_train.sample(frac=valid_sample_frac, random_state=42).index,\n",
    ")"
   ]
  },
  {
   "cell_type": "code",
   "execution_count": null,
   "metadata": {},
   "outputs": [],
   "source": [
    "def get_default_nn_layers(\n",
    "    num_embeddings: int,\n",
    "    num_continuous: int,\n",
    "    num_outputs: int,\n",
    "    num_layers: int = 2,\n",
    ") -> List[int]:\n",
    "    num_input_nodes = num_embeddings + num_continuous\n",
    "    first_layer = 2 ** (num_layers - 1) * round(\n",
    "        (((2 / 3) * num_input_nodes) + num_outputs) / 2 ** (num_layers - 1)\n",
    "    )\n",
    "\n",
    "    return [first_layer] + [\n",
    "        int(first_layer / 2 ** n) for n in range(1, num_layers)\n",
    "    ]"
   ]
  },
  {
   "cell_type": "code",
   "execution_count": null,
   "metadata": {},
   "outputs": [],
   "source": [
    "num_embeddings = sum(\n",
    "    n for _, n in get_emb_sz(tabular_pandas)\n",
    ")\n",
    "num_classes = tabular_pandas.ys.nunique().values[0]\n",
    "continuous_columns = tabular_pandas.cont_names\n",
    "layers = get_default_nn_layers(\n",
    "    num_embeddings,\n",
    "    num_continuous=len(continuous_columns),\n",
    "    num_outputs=num_classes,\n",
    "    num_layers=embedder_num_layers,\n",
    ")\n",
    "config = fastai.tabular.all.tabular_config(\n",
    "    ps=[0.001] + (embedder_num_layers - 1) * [0.01], embed_p=0.04\n",
    ")\n",
    "\n",
    "nn_model = fastai.tabular.all.tabular_learner(\n",
    "    dls=tabular_pandas,\n",
    "    layers=layers,\n",
    "    config=config,\n",
    "    loss_func=fastai.tabular.all.CrossEntropyLossFlat(),\n",
    "    metrics=RocAucBinary(),\n",
    "    n_out=num_classes,\n",
    ")"
   ]
  },
  {
   "cell_type": "code",
   "execution_count": null,
   "metadata": {},
   "outputs": [],
   "source": [
    "valley = nn_model.lr_find()"
   ]
  },
  {
   "cell_type": "code",
   "execution_count": null,
   "metadata": {},
   "outputs": [],
   "source": [
    "nn_model.fit_one_cycle(n_epoch=embedder_n_epochs, lr_max=valley)"
   ]
  }
 ],
 "metadata": {
  "kernelspec": {
   "display_name": "Python 3.10.0 ('default_prediction')",
   "language": "python",
   "name": "python3"
  },
  "language_info": {
   "codemirror_mode": {
    "name": "ipython",
    "version": 3
   },
   "file_extension": ".py",
   "mimetype": "text/x-python",
   "name": "python",
   "nbconvert_exporter": "python",
   "pygments_lexer": "ipython3",
   "version": "3.10.0"
  },
  "orig_nbformat": 4,
  "vscode": {
   "interpreter": {
    "hash": "1e1f6d670a398f79a37d96720a30f8a8a62dff7decaa5b825d061b7e0997c08b"
   }
  }
 },
 "nbformat": 4,
 "nbformat_minor": 2
}
