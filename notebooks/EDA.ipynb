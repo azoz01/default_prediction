{
 "cells": [
  {
   "cell_type": "code",
   "execution_count": null,
   "metadata": {},
   "outputs": [],
   "source": [
    "%load_ext autoreload\n",
    "%autoreload 2\n",
    "import os\n",
    "os.chdir(\"../..\")"
   ]
  },
  {
   "cell_type": "code",
   "execution_count": null,
   "metadata": {},
   "outputs": [],
   "source": [
    "import pandas as pd\n",
    "import seaborn as sns\n",
    "import matplotlib.pyplot as plt\n",
    "import utils.constants as constants"
   ]
  },
  {
   "cell_type": "code",
   "execution_count": null,
   "metadata": {},
   "outputs": [],
   "source": [
    "df = pd.read_csv(\"resources/data/raw/lending_club_loan_two.csv\")"
   ]
  },
  {
   "cell_type": "code",
   "execution_count": null,
   "metadata": {},
   "outputs": [],
   "source": [
    "df[\"issue_d\"].apply(lambda d: d.split(\"-\")[0]).drop_duplicates()"
   ]
  },
  {
   "cell_type": "code",
   "execution_count": null,
   "metadata": {},
   "outputs": [],
   "source": [
    "# Select relevant target values\n",
    "df = df.loc[\n",
    "    (df[constants.TARGET_COLUMN] == constants.FULLY_PAID_STATUS) |\n",
    "    (df[constants.TARGET_COLUMN] == constants.CHARGED_OFF_STATUS)\n",
    "]\n",
    "df[constants.TARGET_COLUMN] = df[constants.TARGET_COLUMN].map({\n",
    "    constants.FULLY_PAID_STATUS: 0,\n",
    "    constants.CHARGED_OFF_STATUS: 1\n",
    "})"
   ]
  },
  {
   "cell_type": "code",
   "execution_count": null,
   "metadata": {},
   "outputs": [],
   "source": [
    "df.shape"
   ]
  },
  {
   "cell_type": "code",
   "execution_count": null,
   "metadata": {},
   "outputs": [],
   "source": [
    "df.columns"
   ]
  },
  {
   "cell_type": "markdown",
   "metadata": {},
   "source": [
    "# Data Description"
   ]
  },
  {
   "cell_type": "code",
   "execution_count": null,
   "metadata": {},
   "outputs": [],
   "source": [
    "df[constants.TARGET_COLUMN].hist()"
   ]
  },
  {
   "cell_type": "code",
   "execution_count": null,
   "metadata": {},
   "outputs": [],
   "source": [
    "SKEWED_COLUMNS = []\n",
    "COLUMNS_TO_STANDARDIZE = []\n",
    "COLUMNS_TO_SCALE = []\n",
    "NON_ETHICAL_COLUMNS = []\n",
    "IMBALANCED_COLUMNS = []\n",
    "COLUMNS_TO_ORDINAL_ENCODING = []\n",
    "STANDARD_CAT_COLUMNS = []\n",
    "REDUNDANT_COLUMNS = []\n",
    "COLUMNS_TO_WOE_ENCODE = []\n",
    "COLUMNS_TO_IMPUTE_MISSING_CATEGORY = []\n",
    "COLUMNS_TO_DROP_OUTLIERS = []\n",
    "DATE_COLUMNS_TO_SPLIT = []\n",
    "COLUMNS_TO_CYCLICAL_ENCODING = []\n",
    "COLUMNS_TO_BINARIZE = []\n",
    "COLUMNS_TO_MICE_IMPUTE = []\n",
    "COLUMNS_TO_IMPUTE_0 = []"
   ]
  },
  {
   "cell_type": "code",
   "execution_count": null,
   "metadata": {},
   "outputs": [],
   "source": [
    "def describe_num_column(col):\n",
    "    print(f\"{col.isna().sum() = }\")\n",
    "    print(\"----------------\")\n",
    "    print(col.describe())\n",
    "    print(f\"{col.skew() = }\")\n",
    "    print(\"----------------\")\n",
    "    print(col.drop_duplicates())\n",
    "    print(\"----------------\")\n",
    "    col.hist()\n",
    "\n",
    "def describe_cat_column(col, plot=True):\n",
    "    print(f\"{col.isna().sum() = }\")\n",
    "    print(\"----------------\")\n",
    "    print(col.describe())\n",
    "    print(\"----------------\")\n",
    "    print(col.drop_duplicates())\n",
    "    print(\"----------------\")\n",
    "    print(f\"{col.nunique()=}\")\n",
    "    print(\"----------------\")\n",
    "    if plot:\n",
    "        col.hist()"
   ]
  },
  {
   "cell_type": "markdown",
   "metadata": {},
   "source": [
    "### `loan_amnt`"
   ]
  },
  {
   "cell_type": "code",
   "execution_count": null,
   "metadata": {},
   "outputs": [],
   "source": [
    "describe_num_column(df[\"loan_amnt\"])"
   ]
  },
  {
   "cell_type": "code",
   "execution_count": null,
   "metadata": {},
   "outputs": [],
   "source": [
    "SKEWED_COLUMNS.append(\"loan_amnt\")\n",
    "COLUMNS_TO_STANDARDIZE.append(\"loan_amnt\")"
   ]
  },
  {
   "cell_type": "markdown",
   "metadata": {},
   "source": [
    "### `term`"
   ]
  },
  {
   "cell_type": "code",
   "execution_count": null,
   "metadata": {},
   "outputs": [],
   "source": [
    "describe_cat_column(df[\"term\"])"
   ]
  },
  {
   "cell_type": "code",
   "execution_count": null,
   "metadata": {},
   "outputs": [],
   "source": [
    "COLUMNS_TO_ORDINAL_ENCODING.append(\"term\")\n",
    "COLUMNS_TO_SCALE.append(\"term\")"
   ]
  },
  {
   "cell_type": "markdown",
   "metadata": {},
   "source": [
    "### `int_rate`"
   ]
  },
  {
   "cell_type": "code",
   "execution_count": null,
   "metadata": {},
   "outputs": [],
   "source": [
    "describe_num_column(df[\"int_rate\"])"
   ]
  },
  {
   "cell_type": "code",
   "execution_count": null,
   "metadata": {},
   "outputs": [],
   "source": [
    "SKEWED_COLUMNS.append(\"loan_amnt\")\n",
    "COLUMNS_TO_STANDARDIZE.append(\"loan_amnt\")"
   ]
  },
  {
   "cell_type": "markdown",
   "metadata": {},
   "source": [
    "### `installment`"
   ]
  },
  {
   "cell_type": "code",
   "execution_count": null,
   "metadata": {},
   "outputs": [],
   "source": [
    "describe_num_column(df[\"installment\"])"
   ]
  },
  {
   "cell_type": "code",
   "execution_count": null,
   "metadata": {},
   "outputs": [],
   "source": [
    "SKEWED_COLUMNS.append(\"loan_amnt\")\n",
    "COLUMNS_TO_STANDARDIZE.append(\"loan_amnt\")"
   ]
  },
  {
   "cell_type": "markdown",
   "metadata": {},
   "source": [
    "### `grade` & `sub_grade`"
   ]
  },
  {
   "cell_type": "code",
   "execution_count": null,
   "metadata": {},
   "outputs": [],
   "source": [
    "df[[\"grade\", \"sub_grade\"]].sort_values(\"sub_grade\").drop_duplicates()"
   ]
  },
  {
   "cell_type": "markdown",
   "metadata": {},
   "source": [
    "`sub_grade` is variable dependent on `grade`, so for not keeping high cardinality categorical variables I'll drop `sub_grade` column"
   ]
  },
  {
   "cell_type": "code",
   "execution_count": null,
   "metadata": {},
   "outputs": [],
   "source": [
    "REDUNDANT_COLUMNS.append(\"sub_grade\")\n",
    "COLUMNS_TO_ORDINAL_ENCODING.append(\"grade\")\n",
    "COLUMNS_TO_SCALE.append(\"grade\")"
   ]
  },
  {
   "cell_type": "markdown",
   "metadata": {},
   "source": [
    "### `emp_title`"
   ]
  },
  {
   "cell_type": "code",
   "execution_count": null,
   "metadata": {},
   "outputs": [],
   "source": [
    "describe_cat_column(df[\"emp_title\"], plot=False)"
   ]
  },
  {
   "cell_type": "code",
   "execution_count": null,
   "metadata": {},
   "outputs": [],
   "source": [
    "COLUMNS_TO_IMPUTE_MISSING_CATEGORY.append(\"emp_title\")\n",
    "COLUMNS_TO_WOE_ENCODE.append(\"emp_title\")"
   ]
  },
  {
   "cell_type": "markdown",
   "metadata": {},
   "source": [
    "### `emp_length`"
   ]
  },
  {
   "cell_type": "code",
   "execution_count": null,
   "metadata": {},
   "outputs": [],
   "source": [
    "plt.xticks(rotation=45)\n",
    "describe_cat_column(df[\"emp_length\"])"
   ]
  },
  {
   "cell_type": "code",
   "execution_count": null,
   "metadata": {},
   "outputs": [],
   "source": [
    "COLUMNS_TO_MICE_IMPUTE.append(\"emp_length\")\n",
    "COLUMNS_TO_ORDINAL_ENCODING.append(\"emp_length\")\n",
    "COLUMNS_TO_SCALE.append(\"emp_length\")"
   ]
  },
  {
   "cell_type": "markdown",
   "metadata": {},
   "source": [
    "### `home_ownership`"
   ]
  },
  {
   "cell_type": "code",
   "execution_count": null,
   "metadata": {},
   "outputs": [],
   "source": [
    "describe_cat_column(df[\"home_ownership\"])"
   ]
  },
  {
   "cell_type": "markdown",
   "metadata": {},
   "source": [
    "We may need to merge \"None\", \"Any\", \"Other\", \"Own\" into one category"
   ]
  },
  {
   "cell_type": "code",
   "execution_count": null,
   "metadata": {},
   "outputs": [],
   "source": [
    "STANDARD_CAT_COLUMNS.append(\"home_ownership\")"
   ]
  },
  {
   "cell_type": "markdown",
   "metadata": {},
   "source": [
    "### `annual_inc`"
   ]
  },
  {
   "cell_type": "code",
   "execution_count": null,
   "metadata": {},
   "outputs": [],
   "source": [
    "describe_num_column(df[\"annual_inc\"])"
   ]
  },
  {
   "cell_type": "code",
   "execution_count": null,
   "metadata": {},
   "outputs": [],
   "source": [
    "COLUMNS_TO_DROP_OUTLIERS.append(\"annual_inc\")\n",
    "SKEWED_COLUMNS.append(\"annual_inc\")\n",
    "COLUMNS_TO_STANDARDIZE.append(\"annual_inc\")"
   ]
  },
  {
   "cell_type": "markdown",
   "metadata": {},
   "source": [
    "###  `verification_status`"
   ]
  },
  {
   "cell_type": "code",
   "execution_count": null,
   "metadata": {},
   "outputs": [],
   "source": [
    "describe_cat_column(df[\"verification_status\"])"
   ]
  },
  {
   "cell_type": "code",
   "execution_count": null,
   "metadata": {},
   "outputs": [],
   "source": [
    "STANDARD_CAT_COLUMNS.append(\"verification_status\")"
   ]
  },
  {
   "cell_type": "markdown",
   "metadata": {},
   "source": [
    "### `issue_d`"
   ]
  },
  {
   "cell_type": "code",
   "execution_count": null,
   "metadata": {},
   "outputs": [],
   "source": [
    "plt.xticks(rotation=90)\n",
    "describe_cat_column(df[\"issue_d\"], plot=False)\n",
    "df[\"issue_d_year\"] = df[\"issue_d\"].apply(lambda d: d.split(\"-\")[1])\n",
    "df[\"issue_d_year\"].hist()"
   ]
  },
  {
   "cell_type": "code",
   "execution_count": null,
   "metadata": {},
   "outputs": [],
   "source": [
    "DATE_COLUMNS_TO_SPLIT.append(\"issue_d\")\n",
    "COLUMNS_TO_SCALE.append(\"issue_d_year\")\n",
    "COLUMNS_TO_CYCLICAL_ENCODING.append(\"issue_d_month\")"
   ]
  },
  {
   "cell_type": "markdown",
   "metadata": {},
   "source": [
    "### `purpose`"
   ]
  },
  {
   "cell_type": "code",
   "execution_count": null,
   "metadata": {},
   "outputs": [],
   "source": [
    "plt.xticks(rotation=90)\n",
    "describe_cat_column(df[\"purpose\"])"
   ]
  },
  {
   "cell_type": "code",
   "execution_count": null,
   "metadata": {},
   "outputs": [],
   "source": [
    "STANDARD_CAT_COLUMNS.append(\"purpose\")"
   ]
  },
  {
   "cell_type": "markdown",
   "metadata": {},
   "source": [
    "### `title`"
   ]
  },
  {
   "cell_type": "code",
   "execution_count": null,
   "metadata": {},
   "outputs": [],
   "source": [
    "describe_cat_column(df[\"title\"], plot=False)"
   ]
  },
  {
   "cell_type": "markdown",
   "metadata": {},
   "source": [
    "As for now let's drop this, but in future we may need to reintroduce this column"
   ]
  },
  {
   "cell_type": "markdown",
   "metadata": {},
   "source": [
    "### `address`"
   ]
  },
  {
   "cell_type": "markdown",
   "metadata": {},
   "source": [
    "I will drop this column since I don't want model to predict default probability based on somebody's address"
   ]
  },
  {
   "cell_type": "code",
   "execution_count": null,
   "metadata": {},
   "outputs": [],
   "source": [
    "df[\"term\"].drop_duplicates().values"
   ]
  },
  {
   "cell_type": "code",
   "execution_count": null,
   "metadata": {},
   "outputs": [],
   "source": [
    "NON_ETHICAL_COLUMNS.append(\"zip_code\")\n",
    "NON_ETHICAL_COLUMNS.append(\"addr_state\")"
   ]
  },
  {
   "cell_type": "markdown",
   "metadata": {},
   "source": [
    "### `dti`"
   ]
  },
  {
   "cell_type": "code",
   "execution_count": null,
   "metadata": {},
   "outputs": [],
   "source": [
    "describe_num_column(df[\"dti\"])"
   ]
  },
  {
   "cell_type": "code",
   "execution_count": null,
   "metadata": {},
   "outputs": [],
   "source": [
    "COLUMNS_TO_DROP_OUTLIERS.append(\"dti\")\n",
    "SKEWED_COLUMNS.append(\"dti\")\n",
    "COLUMNS_TO_STANDARDIZE.append(\"dti\")"
   ]
  },
  {
   "cell_type": "markdown",
   "metadata": {},
   "source": [
    "### `earliest_cr_line`"
   ]
  },
  {
   "cell_type": "code",
   "execution_count": null,
   "metadata": {},
   "outputs": [],
   "source": [
    "plt.xticks(rotation=90)\n",
    "describe_cat_column(df[\"earliest_cr_line\"], plot=False)\n",
    "df[\"earliest_cr_line_year\"] = df[\"earliest_cr_line\"].apply(lambda d: d.split(\"-\")[1])\n",
    "df[\"earliest_cr_line_year\"].hist()"
   ]
  },
  {
   "cell_type": "code",
   "execution_count": null,
   "metadata": {},
   "outputs": [],
   "source": [
    "DATE_COLUMNS_TO_SPLIT.append(\"earliest_cr_line\")\n",
    "COLUMNS_TO_SCALE.append(\"earliest_cr_line_year\")\n",
    "COLUMNS_TO_CYCLICAL_ENCODING.append(\"earliest_cr_line_month\")"
   ]
  },
  {
   "cell_type": "markdown",
   "metadata": {},
   "source": [
    "### `open_acc`"
   ]
  },
  {
   "cell_type": "code",
   "execution_count": null,
   "metadata": {},
   "outputs": [],
   "source": [
    "describe_cat_column(df[\"open_acc\"])"
   ]
  },
  {
   "cell_type": "code",
   "execution_count": null,
   "metadata": {},
   "outputs": [],
   "source": [
    "COLUMNS_TO_DROP_OUTLIERS.append(\"open_acc\")\n",
    "SKEWED_COLUMNS.append(\"open_acc\")\n",
    "COLUMNS_TO_STANDARDIZE.append(\"open_acc\")"
   ]
  },
  {
   "cell_type": "markdown",
   "metadata": {},
   "source": [
    "### `pub_rec`"
   ]
  },
  {
   "cell_type": "code",
   "execution_count": null,
   "metadata": {},
   "outputs": [],
   "source": [
    "describe_num_column(df[\"pub_rec\"])"
   ]
  },
  {
   "cell_type": "code",
   "execution_count": null,
   "metadata": {},
   "outputs": [],
   "source": [
    "COLUMNS_TO_BINARIZE.append(\"pub_rec\")"
   ]
  },
  {
   "cell_type": "markdown",
   "metadata": {},
   "source": [
    "### `revol_bal`"
   ]
  },
  {
   "cell_type": "code",
   "execution_count": null,
   "metadata": {},
   "outputs": [],
   "source": [
    "describe_num_column(df[\"revol_bal\"])"
   ]
  },
  {
   "cell_type": "code",
   "execution_count": null,
   "metadata": {},
   "outputs": [],
   "source": [
    "COLUMNS_TO_DROP_OUTLIERS.append(\"open_acc\")\n",
    "SKEWED_COLUMNS.append(\"open_acc\")\n",
    "COLUMNS_TO_STANDARDIZE.append(\"open_acc\")"
   ]
  },
  {
   "cell_type": "markdown",
   "metadata": {},
   "source": [
    "### `revol_util`"
   ]
  },
  {
   "cell_type": "code",
   "execution_count": null,
   "metadata": {},
   "outputs": [],
   "source": [
    "describe_num_column(df[\"revol_util\"])"
   ]
  },
  {
   "cell_type": "code",
   "execution_count": null,
   "metadata": {},
   "outputs": [],
   "source": [
    "COLUMNS_TO_MICE_IMPUTE.append(\"revol_util\")\n",
    "COLUMNS_TO_DROP_OUTLIERS.append(\"open_acc\")\n",
    "SKEWED_COLUMNS.append(\"open_acc\")\n",
    "COLUMNS_TO_STANDARDIZE.append(\"open_acc\")"
   ]
  },
  {
   "cell_type": "markdown",
   "metadata": {},
   "source": [
    "### `total_acc`"
   ]
  },
  {
   "cell_type": "code",
   "execution_count": null,
   "metadata": {},
   "outputs": [],
   "source": [
    "describe_num_column(df[\"total_acc\"])"
   ]
  },
  {
   "cell_type": "code",
   "execution_count": null,
   "metadata": {},
   "outputs": [],
   "source": [
    "COLUMNS_TO_DROP_OUTLIERS.append(\"open_acc\")\n",
    "SKEWED_COLUMNS.append(\"open_acc\")\n",
    "COLUMNS_TO_STANDARDIZE.append(\"open_acc\")"
   ]
  },
  {
   "cell_type": "markdown",
   "metadata": {},
   "source": [
    "### `initial_list_status`"
   ]
  },
  {
   "cell_type": "code",
   "execution_count": null,
   "metadata": {},
   "outputs": [],
   "source": [
    "describe_cat_column(df[\"initial_list_status\"])"
   ]
  },
  {
   "cell_type": "code",
   "execution_count": null,
   "metadata": {},
   "outputs": [],
   "source": [
    "STANDARD_CAT_COLUMNS.append(\"initial_list_status\")"
   ]
  },
  {
   "cell_type": "markdown",
   "metadata": {},
   "source": [
    "### `application_type`"
   ]
  },
  {
   "cell_type": "code",
   "execution_count": null,
   "metadata": {},
   "outputs": [],
   "source": [
    "describe_cat_column(df[\"application_type\"])"
   ]
  },
  {
   "cell_type": "code",
   "execution_count": null,
   "metadata": {},
   "outputs": [],
   "source": [
    "IMBALANCED_COLUMNS.append(\"application_type\")"
   ]
  },
  {
   "cell_type": "markdown",
   "metadata": {},
   "source": [
    "### `mort_acc`"
   ]
  },
  {
   "cell_type": "code",
   "execution_count": null,
   "metadata": {},
   "outputs": [],
   "source": [
    "describe_num_column(df[\"mort_acc\"])"
   ]
  },
  {
   "cell_type": "code",
   "execution_count": null,
   "metadata": {},
   "outputs": [],
   "source": [
    "COLUMNS_TO_MICE_IMPUTE.append(\"mort_acc\")\n",
    "COLUMNS_TO_DROP_OUTLIERS.append(\"mort_acc\")\n",
    "COLUMNS_TO_STANDARDIZE.append(\"mort_acc\")"
   ]
  },
  {
   "cell_type": "markdown",
   "metadata": {},
   "source": [
    "### `pub_rec_bankruptcies`"
   ]
  },
  {
   "cell_type": "code",
   "execution_count": null,
   "metadata": {},
   "outputs": [],
   "source": [
    "describe_num_column(df[\"pub_rec_bankruptcies\"])"
   ]
  },
  {
   "cell_type": "code",
   "execution_count": null,
   "metadata": {},
   "outputs": [],
   "source": [
    "COLUMNS_TO_IMPUTE_0.append(\"pub_rec_bankruptcies\")\n",
    "COLUMNS_TO_BINARIZE.append(\"pub_rec_bankruptcies\")"
   ]
  },
  {
   "cell_type": "markdown",
   "metadata": {},
   "source": [
    "## Summary"
   ]
  },
  {
   "cell_type": "code",
   "execution_count": null,
   "metadata": {},
   "outputs": [],
   "source": [
    "print(f\"{SKEWED_COLUMNS = }\")\n",
    "print(f\"{COLUMNS_TO_STANDARDIZE = }\")\n",
    "print(f\"{COLUMNS_TO_SCALE = }\")\n",
    "print(f\"{NON_ETHICAL_COLUMNS = }\")\n",
    "print(f\"{IMBALANCED_COLUMNS = }\")\n",
    "print(f\"{COLUMNS_TO_ORDINAL_ENCODING = }\")\n",
    "print(f\"{STANDARD_CAT_COLUMNS = }\")\n",
    "print(f\"{REDUNDANT_COLUMNS = }\")\n",
    "print(f\"{COLUMNS_TO_WOE_ENCODE = }\")\n",
    "print(f\"{COLUMNS_TO_IMPUTE_MISSING_CATEGORY = }\")\n",
    "print(f\"{COLUMNS_TO_DROP_OUTLIERS = }\")\n",
    "print(f\"{DATE_COLUMNS_TO_SPLIT = }\")\n",
    "print(f\"{COLUMNS_TO_CYCLICAL_ENCODING = }\")\n",
    "print(f\"{COLUMNS_TO_BINARIZE = }\")\n",
    "print(f\"{COLUMNS_TO_MICE_IMPUTE = }\")\n",
    "print(f\"{COLUMNS_TO_IMPUTE_0 = }\")"
   ]
  },
  {
   "cell_type": "markdown",
   "metadata": {},
   "source": [
    "# Missing Values"
   ]
  },
  {
   "cell_type": "code",
   "execution_count": null,
   "metadata": {},
   "outputs": [],
   "source": [
    "df.isna().any(axis=0)"
   ]
  },
  {
   "cell_type": "markdown",
   "metadata": {},
   "source": [
    "## Correlations"
   ]
  },
  {
   "cell_type": "code",
   "execution_count": null,
   "metadata": {},
   "outputs": [],
   "source": [
    "sns.heatmap(df.corr(method=\"spearman\"), cmap=sns.diverging_palette(220, 20, as_cmap=True))"
   ]
  },
  {
   "cell_type": "code",
   "execution_count": null,
   "metadata": {},
   "outputs": [],
   "source": [
    "COLUMNS_HIGHLY_CORRELATED_TO_DROP=[\"installment\"]"
   ]
  }
 ],
 "metadata": {
  "kernelspec": {
   "display_name": "Python 3.10.0 ('default_prediction')",
   "language": "python",
   "name": "python3"
  },
  "language_info": {
   "codemirror_mode": {
    "name": "ipython",
    "version": 3
   },
   "file_extension": ".py",
   "mimetype": "text/x-python",
   "name": "python",
   "nbconvert_exporter": "python",
   "pygments_lexer": "ipython3",
   "version": "3.10.0"
  },
  "orig_nbformat": 4,
  "vscode": {
   "interpreter": {
    "hash": "1e1f6d670a398f79a37d96720a30f8a8a62dff7decaa5b825d061b7e0997c08b"
   }
  }
 },
 "nbformat": 4,
 "nbformat_minor": 2
}
