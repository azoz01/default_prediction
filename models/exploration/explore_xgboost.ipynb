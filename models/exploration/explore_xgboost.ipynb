{
 "cells": [
  {
   "cell_type": "code",
   "execution_count": 1,
   "metadata": {},
   "outputs": [],
   "source": [
    "import os\n",
    "os.chdir(\"../..\")"
   ]
  },
  {
   "cell_type": "code",
   "execution_count": 2,
   "metadata": {},
   "outputs": [],
   "source": [
    "import random\n",
    "import pickle as pkl\n",
    "import pandas as pd\n",
    "import numpy as np\n",
    "from models.utils.metrics import get_metrics\n",
    "from models.utils.model_wrapper import ModelWrapper"
   ]
  },
  {
   "cell_type": "code",
   "execution_count": 3,
   "metadata": {},
   "outputs": [],
   "source": [
    "with open(\"models_files/serialized/xgboost_calibrated.pkl\", \"rb\") as f:\n",
    "    model = pkl.load(f)"
   ]
  },
  {
   "cell_type": "code",
   "execution_count": 4,
   "metadata": {},
   "outputs": [],
   "source": [
    "X_train = pd.read_parquet(\"data/balanced/X_train.parquet\")\n",
    "y_train = pd.read_parquet(\"data/balanced/y_train.parquet\")\n",
    "X_test = pd.read_parquet(\"data/balanced/X_test.parquet\")\n",
    "y_test = pd.read_parquet(\"data/balanced/y_test.parquet\")\n",
    "X_calib = pd.read_parquet(\"data/balanced/X_calib.parquet\")\n",
    "y_calib = pd.read_parquet(\"data/balanced/y_calib.parquet\")"
   ]
  },
  {
   "cell_type": "code",
   "execution_count": 5,
   "metadata": {},
   "outputs": [],
   "source": [
    "final_model = ModelWrapper(model.predict_proba, .09)"
   ]
  },
  {
   "cell_type": "code",
   "execution_count": 6,
   "metadata": {},
   "outputs": [
    {
     "data": {
      "text/plain": [
       "{'accuracy': 0.7278359464004774,\n",
       " 'f1_score': 0.1685229382126757,\n",
       " 'precision': 0.11185918591859186,\n",
       " 'recall': 0.34152895337901384,\n",
       " 'ROC_AUC': 0.5516513773764595}"
      ]
     },
     "execution_count": 6,
     "metadata": {},
     "output_type": "execute_result"
    }
   ],
   "source": [
    "get_metrics(final_model, X_test, y_test)"
   ]
  },
  {
   "cell_type": "code",
   "execution_count": 7,
   "metadata": {},
   "outputs": [],
   "source": [
    "def random_proba(X):\n",
    "    return np.array([[0, random.uniform(0, 1)] for _ in range(X.shape[0])])\n",
    "\n",
    "baseline = ModelWrapper(random_proba, threshold=.5)"
   ]
  },
  {
   "cell_type": "code",
   "execution_count": 8,
   "metadata": {},
   "outputs": [
    {
     "data": {
      "text/plain": [
       "{'accuracy': 0.5016763413443281,\n",
       " 'f1_score': 0.14037583289660852,\n",
       " 'precision': 0.08154833097749266,\n",
       " 'recall': 0.5038291011688835,\n",
       " 'ROC_AUC': 0.5026581590922674}"
      ]
     },
     "execution_count": 8,
     "metadata": {},
     "output_type": "execute_result"
    }
   ],
   "source": [
    "get_metrics(baseline, X_test, y_test)"
   ]
  },
  {
   "cell_type": "markdown",
   "metadata": {},
   "source": [
    "slightly better than baseline"
   ]
  }
 ],
 "metadata": {
  "kernelspec": {
   "display_name": "Python 3.10.0 ('default_prediction')",
   "language": "python",
   "name": "python3"
  },
  "language_info": {
   "codemirror_mode": {
    "name": "ipython",
    "version": 3
   },
   "file_extension": ".py",
   "mimetype": "text/x-python",
   "name": "python",
   "nbconvert_exporter": "python",
   "pygments_lexer": "ipython3",
   "version": "3.10.0"
  },
  "orig_nbformat": 4,
  "vscode": {
   "interpreter": {
    "hash": "1e1f6d670a398f79a37d96720a30f8a8a62dff7decaa5b825d061b7e0997c08b"
   }
  }
 },
 "nbformat": 4,
 "nbformat_minor": 2
}
