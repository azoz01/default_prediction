{
 "cells": [
  {
   "cell_type": "code",
   "execution_count": 1,
   "metadata": {},
   "outputs": [],
   "source": [
    "import os\n",
    "os.chdir(\"../..\")"
   ]
  },
  {
   "cell_type": "code",
   "execution_count": 2,
   "metadata": {},
   "outputs": [],
   "source": [
    "import random\n",
    "import optuna\n",
    "import pickle as pkl\n",
    "import pandas as pd\n",
    "import numpy as np\n",
    "from models.utils.metrics import get_metrics\n",
    "from models.utils.model_wrapper import ModelWrapper"
   ]
  },
  {
   "cell_type": "code",
   "execution_count": 3,
   "metadata": {},
   "outputs": [],
   "source": [
    "X_train = pd.read_parquet(\"resources/data/reduced/X_train.parquet\")\n",
    "y_train = pd.read_parquet(\"resources/data/reduced/y_train.parquet\")\n",
    "X_test = pd.read_parquet(\"resources/data/reduced/X_test.parquet\")\n",
    "y_test = pd.read_parquet(\"resources/data/reduced/y_test.parquet\")\n",
    "X_valid = pd.read_parquet(\"resources/data/reduced/X_valid.parquet\")\n",
    "y_valid = pd.read_parquet(\"resources/data/reduced/y_valid.parquet\")"
   ]
  },
  {
   "cell_type": "code",
   "execution_count": 4,
   "metadata": {},
   "outputs": [
    {
     "name": "stderr",
     "output_type": "stream",
     "text": [
      "\u001b[32m[I 2022-10-17 00:41:50,708]\u001b[0m Using an existing study with name 'xgboost' instead of creating a new one.\u001b[0m\n"
     ]
    }
   ],
   "source": [
    "study = optuna.create_study(\n",
    "    study_name=\"xgboost\", \n",
    "    storage=\"sqlite:///resources/models/studies/xgboost/xgboost-2022-10-16-21_10_01_colab.db\", \n",
    "    load_if_exists=True,\n",
    "    directions=[\"maximize\", \"minimize\"]\n",
    ")"
   ]
  },
  {
   "cell_type": "code",
   "execution_count": 6,
   "metadata": {},
   "outputs": [],
   "source": [
    "fig = optuna.visualization.plot_pareto_front(study)\n",
    "fig.show(renderer=\"browser\")"
   ]
  },
  {
   "cell_type": "code",
   "execution_count": 12,
   "metadata": {},
   "outputs": [
    {
     "name": "stderr",
     "output_type": "stream",
     "text": [
      "/home/antoni/.miniconda3/envs/default_prediction/lib/python3.10/site-packages/xgboost/sklearn.py:793: UserWarning:\n",
      "\n",
      "`early_stopping_rounds` in `fit` method is deprecated for better compatibility with scikit-learn, use `early_stopping_rounds` in constructor or`set_params` instead.\n",
      "\n"
     ]
    },
    {
     "name": "stdout",
     "output_type": "stream",
     "text": [
      "[0]\tvalidation_0-logloss:0.66737\n",
      "[1]\tvalidation_0-logloss:0.65157\n",
      "[2]\tvalidation_0-logloss:0.64094\n",
      "[3]\tvalidation_0-logloss:0.63299\n",
      "[4]\tvalidation_0-logloss:0.62802\n",
      "[5]\tvalidation_0-logloss:0.62327\n",
      "[6]\tvalidation_0-logloss:0.62022\n",
      "[7]\tvalidation_0-logloss:0.61716\n",
      "[8]\tvalidation_0-logloss:0.61402\n",
      "[9]\tvalidation_0-logloss:0.61148\n",
      "[10]\tvalidation_0-logloss:0.60904\n",
      "[11]\tvalidation_0-logloss:0.60767\n",
      "[12]\tvalidation_0-logloss:0.60610\n",
      "[13]\tvalidation_0-logloss:0.60481\n",
      "[14]\tvalidation_0-logloss:0.60391\n",
      "[15]\tvalidation_0-logloss:0.60297\n",
      "[16]\tvalidation_0-logloss:0.60161\n",
      "[17]\tvalidation_0-logloss:0.60066\n",
      "[18]\tvalidation_0-logloss:0.59873\n",
      "[19]\tvalidation_0-logloss:0.59816\n",
      "[20]\tvalidation_0-logloss:0.59754\n",
      "[21]\tvalidation_0-logloss:0.59715\n",
      "[22]\tvalidation_0-logloss:0.59643\n",
      "[23]\tvalidation_0-logloss:0.59585\n",
      "[24]\tvalidation_0-logloss:0.59522\n",
      "[25]\tvalidation_0-logloss:0.59461\n",
      "[26]\tvalidation_0-logloss:0.59427\n",
      "[27]\tvalidation_0-logloss:0.59396\n",
      "[28]\tvalidation_0-logloss:0.59325\n",
      "[29]\tvalidation_0-logloss:0.59283\n",
      "[30]\tvalidation_0-logloss:0.59253\n",
      "[31]\tvalidation_0-logloss:0.59218\n",
      "[32]\tvalidation_0-logloss:0.59181\n",
      "[33]\tvalidation_0-logloss:0.59143\n",
      "[34]\tvalidation_0-logloss:0.59096\n",
      "[35]\tvalidation_0-logloss:0.59061\n",
      "[36]\tvalidation_0-logloss:0.59040\n",
      "[37]\tvalidation_0-logloss:0.59013\n",
      "[38]\tvalidation_0-logloss:0.58990\n",
      "[39]\tvalidation_0-logloss:0.58971\n",
      "[40]\tvalidation_0-logloss:0.58948\n",
      "[41]\tvalidation_0-logloss:0.58893\n",
      "[42]\tvalidation_0-logloss:0.58853\n",
      "[43]\tvalidation_0-logloss:0.58840\n",
      "[44]\tvalidation_0-logloss:0.58821\n",
      "[45]\tvalidation_0-logloss:0.58797\n",
      "[46]\tvalidation_0-logloss:0.58774\n",
      "[47]\tvalidation_0-logloss:0.58759\n",
      "[48]\tvalidation_0-logloss:0.58751\n",
      "[49]\tvalidation_0-logloss:0.58698\n",
      "[50]\tvalidation_0-logloss:0.58679\n",
      "[51]\tvalidation_0-logloss:0.58665\n",
      "[52]\tvalidation_0-logloss:0.58640\n",
      "[53]\tvalidation_0-logloss:0.58630\n",
      "[54]\tvalidation_0-logloss:0.58608\n",
      "[55]\tvalidation_0-logloss:0.58600\n",
      "[56]\tvalidation_0-logloss:0.58577\n",
      "[57]\tvalidation_0-logloss:0.58558\n",
      "[58]\tvalidation_0-logloss:0.58549\n",
      "[59]\tvalidation_0-logloss:0.58536\n",
      "[60]\tvalidation_0-logloss:0.58526\n",
      "[61]\tvalidation_0-logloss:0.58507\n",
      "[62]\tvalidation_0-logloss:0.58486\n",
      "[63]\tvalidation_0-logloss:0.58477\n",
      "[64]\tvalidation_0-logloss:0.58464\n",
      "[65]\tvalidation_0-logloss:0.58444\n",
      "[66]\tvalidation_0-logloss:0.58412\n",
      "[67]\tvalidation_0-logloss:0.58376\n",
      "[68]\tvalidation_0-logloss:0.58357\n",
      "[69]\tvalidation_0-logloss:0.58339\n",
      "[70]\tvalidation_0-logloss:0.58322\n",
      "[71]\tvalidation_0-logloss:0.58305\n",
      "[72]\tvalidation_0-logloss:0.58286\n",
      "[73]\tvalidation_0-logloss:0.58274\n",
      "[74]\tvalidation_0-logloss:0.58270\n",
      "[75]\tvalidation_0-logloss:0.58261\n",
      "[76]\tvalidation_0-logloss:0.58249\n",
      "[77]\tvalidation_0-logloss:0.58241\n",
      "[78]\tvalidation_0-logloss:0.58226\n",
      "[79]\tvalidation_0-logloss:0.58218\n",
      "[80]\tvalidation_0-logloss:0.58202\n",
      "[81]\tvalidation_0-logloss:0.58196\n",
      "[82]\tvalidation_0-logloss:0.58194\n",
      "[83]\tvalidation_0-logloss:0.58181\n",
      "[84]\tvalidation_0-logloss:0.58165\n",
      "[85]\tvalidation_0-logloss:0.58161\n",
      "[86]\tvalidation_0-logloss:0.58154\n",
      "[87]\tvalidation_0-logloss:0.58144\n"
     ]
    },
    {
     "data": {
      "text/html": [
       "<style>#sk-container-id-2 {color: black;background-color: white;}#sk-container-id-2 pre{padding: 0;}#sk-container-id-2 div.sk-toggleable {background-color: white;}#sk-container-id-2 label.sk-toggleable__label {cursor: pointer;display: block;width: 100%;margin-bottom: 0;padding: 0.3em;box-sizing: border-box;text-align: center;}#sk-container-id-2 label.sk-toggleable__label-arrow:before {content: \"▸\";float: left;margin-right: 0.25em;color: #696969;}#sk-container-id-2 label.sk-toggleable__label-arrow:hover:before {color: black;}#sk-container-id-2 div.sk-estimator:hover label.sk-toggleable__label-arrow:before {color: black;}#sk-container-id-2 div.sk-toggleable__content {max-height: 0;max-width: 0;overflow: hidden;text-align: left;background-color: #f0f8ff;}#sk-container-id-2 div.sk-toggleable__content pre {margin: 0.2em;color: black;border-radius: 0.25em;background-color: #f0f8ff;}#sk-container-id-2 input.sk-toggleable__control:checked~div.sk-toggleable__content {max-height: 200px;max-width: 100%;overflow: auto;}#sk-container-id-2 input.sk-toggleable__control:checked~label.sk-toggleable__label-arrow:before {content: \"▾\";}#sk-container-id-2 div.sk-estimator input.sk-toggleable__control:checked~label.sk-toggleable__label {background-color: #d4ebff;}#sk-container-id-2 div.sk-label input.sk-toggleable__control:checked~label.sk-toggleable__label {background-color: #d4ebff;}#sk-container-id-2 input.sk-hidden--visually {border: 0;clip: rect(1px 1px 1px 1px);clip: rect(1px, 1px, 1px, 1px);height: 1px;margin: -1px;overflow: hidden;padding: 0;position: absolute;width: 1px;}#sk-container-id-2 div.sk-estimator {font-family: monospace;background-color: #f0f8ff;border: 1px dotted black;border-radius: 0.25em;box-sizing: border-box;margin-bottom: 0.5em;}#sk-container-id-2 div.sk-estimator:hover {background-color: #d4ebff;}#sk-container-id-2 div.sk-parallel-item::after {content: \"\";width: 100%;border-bottom: 1px solid gray;flex-grow: 1;}#sk-container-id-2 div.sk-label:hover label.sk-toggleable__label {background-color: #d4ebff;}#sk-container-id-2 div.sk-serial::before {content: \"\";position: absolute;border-left: 1px solid gray;box-sizing: border-box;top: 0;bottom: 0;left: 50%;z-index: 0;}#sk-container-id-2 div.sk-serial {display: flex;flex-direction: column;align-items: center;background-color: white;padding-right: 0.2em;padding-left: 0.2em;position: relative;}#sk-container-id-2 div.sk-item {position: relative;z-index: 1;}#sk-container-id-2 div.sk-parallel {display: flex;align-items: stretch;justify-content: center;background-color: white;position: relative;}#sk-container-id-2 div.sk-item::before, #sk-container-id-2 div.sk-parallel-item::before {content: \"\";position: absolute;border-left: 1px solid gray;box-sizing: border-box;top: 0;bottom: 0;left: 50%;z-index: -1;}#sk-container-id-2 div.sk-parallel-item {display: flex;flex-direction: column;z-index: 1;position: relative;background-color: white;}#sk-container-id-2 div.sk-parallel-item:first-child::after {align-self: flex-end;width: 50%;}#sk-container-id-2 div.sk-parallel-item:last-child::after {align-self: flex-start;width: 50%;}#sk-container-id-2 div.sk-parallel-item:only-child::after {width: 0;}#sk-container-id-2 div.sk-dashed-wrapped {border: 1px dashed gray;margin: 0 0.4em 0.5em 0.4em;box-sizing: border-box;padding-bottom: 0.4em;background-color: white;}#sk-container-id-2 div.sk-label label {font-family: monospace;font-weight: bold;display: inline-block;line-height: 1.2em;}#sk-container-id-2 div.sk-label-container {text-align: center;}#sk-container-id-2 div.sk-container {/* jupyter's `normalize.less` sets `[hidden] { display: none; }` but bootstrap.min.css set `[hidden] { display: none !important; }` so we also need the `!important` here to be able to override the default hidden behavior on the sphinx rendered scikit-learn.org. See: https://github.com/scikit-learn/scikit-learn/issues/21755 */display: inline-block !important;position: relative;}#sk-container-id-2 div.sk-text-repr-fallback {display: none;}</style><div id=\"sk-container-id-2\" class=\"sk-top-container\"><div class=\"sk-text-repr-fallback\"><pre>XGBClassifier(base_score=0.5, booster=&#x27;gbtree&#x27;, callbacks=None,\n",
       "              colsample_bylevel=1, colsample_bynode=1, colsample_bytree=1,\n",
       "              early_stopping_rounds=None, enable_categorical=False,\n",
       "              eta=0.26151120075621215, eval_metric=None,\n",
       "              gamma=1.6873264119365516, gpu_id=-1, grow_policy=&#x27;depthwise&#x27;,\n",
       "              importance_type=None, interaction_constraints=&#x27;&#x27;,\n",
       "              lambda=7.9007947788123305, learning_rate=0.261511207, max_bin=256,\n",
       "              max_cat_to_onehot=4, max_delta_step=0, max_depth=3, max_leaves=0,\n",
       "              min_child_weight=1, missing=nan, monotone_constraints=&#x27;()&#x27;,\n",
       "              n_estimators=88, n_jobs=0, num_parallel_tree=1, predictor=&#x27;auto&#x27;,\n",
       "              random_state=0, ...)</pre><b>In a Jupyter environment, please rerun this cell to show the HTML representation or trust the notebook. <br />On GitHub, the HTML representation is unable to render, please try loading this page with nbviewer.org.</b></div><div class=\"sk-container\" hidden><div class=\"sk-item\"><div class=\"sk-estimator sk-toggleable\"><input class=\"sk-toggleable__control sk-hidden--visually\" id=\"sk-estimator-id-2\" type=\"checkbox\" checked><label for=\"sk-estimator-id-2\" class=\"sk-toggleable__label sk-toggleable__label-arrow\">XGBClassifier</label><div class=\"sk-toggleable__content\"><pre>XGBClassifier(base_score=0.5, booster=&#x27;gbtree&#x27;, callbacks=None,\n",
       "              colsample_bylevel=1, colsample_bynode=1, colsample_bytree=1,\n",
       "              early_stopping_rounds=None, enable_categorical=False,\n",
       "              eta=0.26151120075621215, eval_metric=None,\n",
       "              gamma=1.6873264119365516, gpu_id=-1, grow_policy=&#x27;depthwise&#x27;,\n",
       "              importance_type=None, interaction_constraints=&#x27;&#x27;,\n",
       "              lambda=7.9007947788123305, learning_rate=0.261511207, max_bin=256,\n",
       "              max_cat_to_onehot=4, max_delta_step=0, max_depth=3, max_leaves=0,\n",
       "              min_child_weight=1, missing=nan, monotone_constraints=&#x27;()&#x27;,\n",
       "              n_estimators=88, n_jobs=0, num_parallel_tree=1, predictor=&#x27;auto&#x27;,\n",
       "              random_state=0, ...)</pre></div></div></div></div></div>"
      ],
      "text/plain": [
       "XGBClassifier(base_score=0.5, booster='gbtree', callbacks=None,\n",
       "              colsample_bylevel=1, colsample_bynode=1, colsample_bytree=1,\n",
       "              early_stopping_rounds=None, enable_categorical=False,\n",
       "              eta=0.26151120075621215, eval_metric=None,\n",
       "              gamma=1.6873264119365516, gpu_id=-1, grow_policy='depthwise',\n",
       "              importance_type=None, interaction_constraints='',\n",
       "              lambda=7.9007947788123305, learning_rate=0.261511207, max_bin=256,\n",
       "              max_cat_to_onehot=4, max_delta_step=0, max_depth=3, max_leaves=0,\n",
       "              min_child_weight=1, missing=nan, monotone_constraints='()',\n",
       "              n_estimators=88, n_jobs=0, num_parallel_tree=1, predictor='auto',\n",
       "              random_state=0, ...)"
      ]
     },
     "execution_count": 12,
     "metadata": {},
     "output_type": "execute_result"
    }
   ],
   "source": [
    "params = study.get_trials()[424].params\n",
    "params[\"scale_pos_weight\"] = 11.381618\n",
    "from xgboost import XGBClassifier\n",
    "model = XGBClassifier(**params)\n",
    "model.fit(X_train, y_train, eval_set=[(X_valid, y_valid)], early_stopping_rounds=10)"
   ]
  },
  {
   "cell_type": "code",
   "execution_count": 13,
   "metadata": {},
   "outputs": [
    {
     "data": {
      "text/plain": [
       "{'accuracy': 0.6987008397578373,\n",
       " 'f1_score': 0.27149056731050303,\n",
       " 'precision': 0.16866897630755476,\n",
       " 'recall': 0.6954267941481396,\n",
       " 'ROC_AUC': 0.6972075801797855}"
      ]
     },
     "execution_count": 13,
     "metadata": {},
     "output_type": "execute_result"
    }
   ],
   "source": [
    "get_metrics(model, X_train, y_train)"
   ]
  },
  {
   "cell_type": "code",
   "execution_count": 14,
   "metadata": {},
   "outputs": [
    {
     "data": {
      "text/plain": [
       "{'accuracy': 0.6931976037506512,\n",
       " 'f1_score': 0.26145566644025287,\n",
       " 'precision': 0.16227785705020106,\n",
       " 'recall': 0.6723998925020156,\n",
       " 'ROC_AUC': 0.6837124016829929}"
      ]
     },
     "execution_count": 14,
     "metadata": {},
     "output_type": "execute_result"
    }
   ],
   "source": [
    "get_metrics(model, X_valid, y_valid)"
   ]
  },
  {
   "cell_type": "code",
   "execution_count": 15,
   "metadata": {},
   "outputs": [
    {
     "data": {
      "text/plain": [
       "TARGET    11.381618\n",
       "dtype: float64"
      ]
     },
     "execution_count": 15,
     "metadata": {},
     "output_type": "execute_result"
    }
   ],
   "source": [
    "(1 - y_valid).sum()/y_valid.sum()"
   ]
  },
  {
   "cell_type": "code",
   "execution_count": 16,
   "metadata": {},
   "outputs": [
    {
     "data": {
      "text/plain": [
       "{'accuracy': 0.6969427387332654,\n",
       " 'f1_score': 0.26678565803979215,\n",
       " 'precision': 0.1657750521920668,\n",
       " 'recall': 0.6828809459822628,\n",
       " 'ROC_AUC': 0.690529365027198}"
      ]
     },
     "execution_count": 16,
     "metadata": {},
     "output_type": "execute_result"
    }
   ],
   "source": [
    "get_metrics(model, X_test, y_test)"
   ]
  },
  {
   "cell_type": "code",
   "execution_count": 17,
   "metadata": {},
   "outputs": [],
   "source": [
    "def random_proba(X):\n",
    "    return np.array([[0, random.uniform(0, 1)] for _ in range(X.shape[0])])\n",
    "\n",
    "baseline = ModelWrapper(random_proba, threshold=.5)"
   ]
  },
  {
   "cell_type": "code",
   "execution_count": 18,
   "metadata": {},
   "outputs": [
    {
     "data": {
      "text/plain": [
       "{'accuracy': 0.5004231128083841,\n",
       " 'f1_score': 0.1358006155694017,\n",
       " 'precision': 0.07892325814755029,\n",
       " 'recall': 0.486159634506853,\n",
       " 'ROC_AUC': 0.49391775333424603}"
      ]
     },
     "execution_count": 18,
     "metadata": {},
     "output_type": "execute_result"
    }
   ],
   "source": [
    "get_metrics(baseline, X_test, y_test)"
   ]
  },
  {
   "cell_type": "code",
   "execution_count": 19,
   "metadata": {},
   "outputs": [
    {
     "name": "stderr",
     "output_type": "stream",
     "text": [
      "2022-10-17 10:15:18,672 utils.io: Saving XGBClassifier(base_score=0.5, booster='gbtree', callbacks=None,\n",
      "              colsample_bylevel=1, colsample_bynode=1, colsample_bytree=1,\n",
      "              early_stopping_rounds=None, enable_categorical=False,\n",
      "              eta=0.26151120075621215, eval_metric=None,\n",
      "              gamma=1.6873264119365516, gpu_id=-1, grow_policy='depthwise',\n",
      "              importance_type=None, interaction_constraints='',\n",
      "              lambda=7.9007947788123305, learning_rate=0.261511207, max_bin=256,\n",
      "              max_cat_to_onehot=4, max_delta_step=0, max_depth=3, max_leaves=0,\n",
      "              min_child_weight=1, missing=nan, monotone_constraints='()',\n",
      "              n_estimators=88, n_jobs=0, num_parallel_tree=1, predictor='auto',\n",
      "              random_state=0, ...) object to resources/models/serialized/xgboost_final_3.pkl\n",
      "2022-10-17 10:15:18,687 utils.io: Saving to resources/models/serialized/xgboost_final_3.pkl succeeded\n",
      "2022-10-17 10:15:18,693 utils.io: Saving dictionary into resources/models/parameters/xgboost_final_3.json\n",
      "2022-10-17 10:15:18,695 utils.io: Saving dictionary into resources/models/parameters/xgboost_final_3.json suceeded\n"
     ]
    }
   ],
   "source": [
    "from utils.io import save_model\n",
    "save_model(\n",
    "    model=model,\n",
    "    model_serialized_path=\"resources/models/serialized/xgboost_final_3.pkl\", \n",
    "    model_parameters_path=\"resources/models/parameters/xgboost_final_3.json\"\n",
    ")"
   ]
  },
  {
   "cell_type": "markdown",
   "metadata": {},
   "source": [
    "slightly better than baseline"
   ]
  }
 ],
 "metadata": {
  "kernelspec": {
   "display_name": "Python 3.10.0 ('default_prediction')",
   "language": "python",
   "name": "python3"
  },
  "language_info": {
   "codemirror_mode": {
    "name": "ipython",
    "version": 3
   },
   "file_extension": ".py",
   "mimetype": "text/x-python",
   "name": "python",
   "nbconvert_exporter": "python",
   "pygments_lexer": "ipython3",
   "version": "3.10.0"
  },
  "orig_nbformat": 4,
  "vscode": {
   "interpreter": {
    "hash": "1e1f6d670a398f79a37d96720a30f8a8a62dff7decaa5b825d061b7e0997c08b"
   }
  }
 },
 "nbformat": 4,
 "nbformat_minor": 2
}
