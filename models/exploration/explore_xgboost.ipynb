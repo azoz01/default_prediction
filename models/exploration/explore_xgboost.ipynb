{
 "cells": [
  {
   "cell_type": "code",
   "execution_count": 1,
   "metadata": {},
   "outputs": [],
   "source": [
    "import os\n",
    "os.chdir(\"../..\")"
   ]
  },
  {
   "cell_type": "code",
   "execution_count": 2,
   "metadata": {},
   "outputs": [],
   "source": [
    "import random\n",
    "import optuna\n",
    "import pickle as pkl\n",
    "import pandas as pd\n",
    "import numpy as np\n",
    "from models.utils.metrics import get_metrics\n",
    "from models.utils.model_wrapper import ModelWrapper"
   ]
  },
  {
   "cell_type": "code",
   "execution_count": 3,
   "metadata": {},
   "outputs": [],
   "source": [
    "X_train = pd.read_parquet(\"resources/data/balanced/X_train.parquet\")\n",
    "y_train = pd.read_parquet(\"resources/data/balanced/y_train.parquet\")\n",
    "X_test = pd.read_parquet(\"resources/data/balanced/X_test.parquet\")\n",
    "y_test = pd.read_parquet(\"resources/data/balanced/y_test.parquet\")\n",
    "X_calib = pd.read_parquet(\"resources/data/balanced/X_calib.parquet\")\n",
    "y_calib = pd.read_parquet(\"resources/data/balanced/y_calib.parquet\")"
   ]
  },
  {
   "cell_type": "code",
   "execution_count": 4,
   "metadata": {},
   "outputs": [
    {
     "name": "stderr",
     "output_type": "stream",
     "text": [
      "\u001b[32m[I 2022-10-07 23:41:58,077]\u001b[0m Using an existing study with name 'xgboost' instead of creating a new one.\u001b[0m\n"
     ]
    }
   ],
   "source": [
    "study = optuna.create_study(\n",
    "    study_name=\"xgboost\", \n",
    "    storage=\"sqlite:///resources/models/studies/xgboost/xgboost-2022-10-07-19_10_48_colab.db\", \n",
    "    load_if_exists=True,\n",
    "    directions=[\"maximize\", \"minimize\"]\n",
    ")"
   ]
  },
  {
   "cell_type": "code",
   "execution_count": 5,
   "metadata": {},
   "outputs": [],
   "source": [
    "fig = optuna.visualization.plot_pareto_front(study)\n",
    "fig.show(renderer=\"browser\")"
   ]
  },
  {
   "cell_type": "code",
   "execution_count": 6,
   "metadata": {},
   "outputs": [],
   "source": [
    "from sklearn.model_selection import train_test_split\n",
    "X_train, X_valid, y_train, y_valid = train_test_split(X_train, y_train, test_size=.3)"
   ]
  },
  {
   "cell_type": "code",
   "execution_count": 14,
   "metadata": {},
   "outputs": [
    {
     "name": "stderr",
     "output_type": "stream",
     "text": [
      "/home/antoni/.miniconda3/envs/default_prediction/lib/python3.10/site-packages/xgboost/sklearn.py:793: UserWarning:\n",
      "\n",
      "`early_stopping_rounds` in `fit` method is deprecated for better compatibility with scikit-learn, use `early_stopping_rounds` in constructor or`set_params` instead.\n",
      "\n"
     ]
    },
    {
     "name": "stdout",
     "output_type": "stream",
     "text": [
      "[0]\tvalidation_0-logloss:0.68556\n",
      "[1]\tvalidation_0-logloss:0.67872\n",
      "[2]\tvalidation_0-logloss:0.67253\n",
      "[3]\tvalidation_0-logloss:0.66685\n",
      "[4]\tvalidation_0-logloss:0.66168\n",
      "[5]\tvalidation_0-logloss:0.65698\n",
      "[6]\tvalidation_0-logloss:0.65272\n",
      "[7]\tvalidation_0-logloss:0.64872\n",
      "[8]\tvalidation_0-logloss:0.64505\n",
      "[9]\tvalidation_0-logloss:0.64173\n",
      "[10]\tvalidation_0-logloss:0.63864\n",
      "[11]\tvalidation_0-logloss:0.63578\n",
      "[12]\tvalidation_0-logloss:0.63318\n",
      "[13]\tvalidation_0-logloss:0.63077\n",
      "[14]\tvalidation_0-logloss:0.62849\n",
      "[15]\tvalidation_0-logloss:0.62636\n",
      "[16]\tvalidation_0-logloss:0.62438\n",
      "[17]\tvalidation_0-logloss:0.62253\n",
      "[18]\tvalidation_0-logloss:0.62085\n",
      "[19]\tvalidation_0-logloss:0.61919\n",
      "[20]\tvalidation_0-logloss:0.61762\n",
      "[21]\tvalidation_0-logloss:0.61619\n",
      "[22]\tvalidation_0-logloss:0.61481\n",
      "[23]\tvalidation_0-logloss:0.61347\n",
      "[24]\tvalidation_0-logloss:0.61223\n",
      "[25]\tvalidation_0-logloss:0.61107\n",
      "[26]\tvalidation_0-logloss:0.60990\n",
      "[27]\tvalidation_0-logloss:0.60865\n",
      "[28]\tvalidation_0-logloss:0.60748\n",
      "[29]\tvalidation_0-logloss:0.60647\n",
      "[30]\tvalidation_0-logloss:0.60546\n",
      "[31]\tvalidation_0-logloss:0.60447\n",
      "[32]\tvalidation_0-logloss:0.60361\n",
      "[33]\tvalidation_0-logloss:0.60279\n",
      "[34]\tvalidation_0-logloss:0.60189\n",
      "[35]\tvalidation_0-logloss:0.60108\n",
      "[36]\tvalidation_0-logloss:0.60018\n",
      "[37]\tvalidation_0-logloss:0.59940\n",
      "[38]\tvalidation_0-logloss:0.59862\n",
      "[39]\tvalidation_0-logloss:0.59790\n",
      "[40]\tvalidation_0-logloss:0.59726\n",
      "[41]\tvalidation_0-logloss:0.59657\n",
      "[42]\tvalidation_0-logloss:0.59598\n",
      "[43]\tvalidation_0-logloss:0.59537\n",
      "[44]\tvalidation_0-logloss:0.59475\n",
      "[45]\tvalidation_0-logloss:0.59411\n",
      "[46]\tvalidation_0-logloss:0.59354\n",
      "[47]\tvalidation_0-logloss:0.59302\n",
      "[48]\tvalidation_0-logloss:0.59248\n",
      "[49]\tvalidation_0-logloss:0.59192\n",
      "[50]\tvalidation_0-logloss:0.59139\n",
      "[51]\tvalidation_0-logloss:0.59088\n",
      "[52]\tvalidation_0-logloss:0.59035\n",
      "[53]\tvalidation_0-logloss:0.58988\n",
      "[54]\tvalidation_0-logloss:0.58938\n",
      "[55]\tvalidation_0-logloss:0.58879\n",
      "[56]\tvalidation_0-logloss:0.58834\n",
      "[57]\tvalidation_0-logloss:0.58794\n",
      "[58]\tvalidation_0-logloss:0.58742\n",
      "[59]\tvalidation_0-logloss:0.58701\n",
      "[60]\tvalidation_0-logloss:0.58659\n",
      "[61]\tvalidation_0-logloss:0.58611\n",
      "[62]\tvalidation_0-logloss:0.58565\n",
      "[63]\tvalidation_0-logloss:0.58524\n",
      "[64]\tvalidation_0-logloss:0.58483\n",
      "[65]\tvalidation_0-logloss:0.58447\n",
      "[66]\tvalidation_0-logloss:0.58413\n",
      "[67]\tvalidation_0-logloss:0.58381\n",
      "[68]\tvalidation_0-logloss:0.58341\n",
      "[69]\tvalidation_0-logloss:0.58302\n",
      "[70]\tvalidation_0-logloss:0.58262\n",
      "[71]\tvalidation_0-logloss:0.58230\n",
      "[72]\tvalidation_0-logloss:0.58195\n",
      "[73]\tvalidation_0-logloss:0.58160\n",
      "[74]\tvalidation_0-logloss:0.58116\n",
      "[75]\tvalidation_0-logloss:0.58092\n",
      "[76]\tvalidation_0-logloss:0.58058\n",
      "[77]\tvalidation_0-logloss:0.58023\n",
      "[78]\tvalidation_0-logloss:0.57994\n",
      "[79]\tvalidation_0-logloss:0.57957\n",
      "[80]\tvalidation_0-logloss:0.57932\n",
      "[81]\tvalidation_0-logloss:0.57898\n",
      "[82]\tvalidation_0-logloss:0.57850\n",
      "[83]\tvalidation_0-logloss:0.57815\n",
      "[84]\tvalidation_0-logloss:0.57798\n",
      "[85]\tvalidation_0-logloss:0.57762\n",
      "[86]\tvalidation_0-logloss:0.57732\n",
      "[87]\tvalidation_0-logloss:0.57711\n",
      "[88]\tvalidation_0-logloss:0.57676\n",
      "[89]\tvalidation_0-logloss:0.57651\n",
      "[90]\tvalidation_0-logloss:0.57636\n",
      "[91]\tvalidation_0-logloss:0.57615\n",
      "[92]\tvalidation_0-logloss:0.57585\n",
      "[93]\tvalidation_0-logloss:0.57559\n",
      "[94]\tvalidation_0-logloss:0.57525\n",
      "[95]\tvalidation_0-logloss:0.57506\n",
      "[96]\tvalidation_0-logloss:0.57477\n",
      "[97]\tvalidation_0-logloss:0.57462\n",
      "[98]\tvalidation_0-logloss:0.57442\n",
      "[99]\tvalidation_0-logloss:0.57414\n",
      "[100]\tvalidation_0-logloss:0.57392\n",
      "[101]\tvalidation_0-logloss:0.57374\n",
      "[102]\tvalidation_0-logloss:0.57354\n",
      "[103]\tvalidation_0-logloss:0.57335\n",
      "[104]\tvalidation_0-logloss:0.57315\n",
      "[105]\tvalidation_0-logloss:0.57294\n",
      "[106]\tvalidation_0-logloss:0.57270\n",
      "[107]\tvalidation_0-logloss:0.57248\n",
      "[108]\tvalidation_0-logloss:0.57219\n",
      "[109]\tvalidation_0-logloss:0.57203\n",
      "[110]\tvalidation_0-logloss:0.57183\n",
      "[111]\tvalidation_0-logloss:0.57159\n",
      "[112]\tvalidation_0-logloss:0.57145\n",
      "[113]\tvalidation_0-logloss:0.57125\n",
      "[114]\tvalidation_0-logloss:0.57112\n",
      "[115]\tvalidation_0-logloss:0.57094\n",
      "[116]\tvalidation_0-logloss:0.57058\n",
      "[117]\tvalidation_0-logloss:0.57039\n",
      "[118]\tvalidation_0-logloss:0.57021\n",
      "[119]\tvalidation_0-logloss:0.57008\n",
      "[120]\tvalidation_0-logloss:0.56990\n",
      "[121]\tvalidation_0-logloss:0.56971\n",
      "[122]\tvalidation_0-logloss:0.56948\n",
      "[123]\tvalidation_0-logloss:0.56931\n",
      "[124]\tvalidation_0-logloss:0.56919\n",
      "[125]\tvalidation_0-logloss:0.56909\n",
      "[126]\tvalidation_0-logloss:0.56888\n",
      "[127]\tvalidation_0-logloss:0.56870\n"
     ]
    },
    {
     "data": {
      "text/html": [
       "<style>#sk-container-id-2 {color: black;background-color: white;}#sk-container-id-2 pre{padding: 0;}#sk-container-id-2 div.sk-toggleable {background-color: white;}#sk-container-id-2 label.sk-toggleable__label {cursor: pointer;display: block;width: 100%;margin-bottom: 0;padding: 0.3em;box-sizing: border-box;text-align: center;}#sk-container-id-2 label.sk-toggleable__label-arrow:before {content: \"▸\";float: left;margin-right: 0.25em;color: #696969;}#sk-container-id-2 label.sk-toggleable__label-arrow:hover:before {color: black;}#sk-container-id-2 div.sk-estimator:hover label.sk-toggleable__label-arrow:before {color: black;}#sk-container-id-2 div.sk-toggleable__content {max-height: 0;max-width: 0;overflow: hidden;text-align: left;background-color: #f0f8ff;}#sk-container-id-2 div.sk-toggleable__content pre {margin: 0.2em;color: black;border-radius: 0.25em;background-color: #f0f8ff;}#sk-container-id-2 input.sk-toggleable__control:checked~div.sk-toggleable__content {max-height: 200px;max-width: 100%;overflow: auto;}#sk-container-id-2 input.sk-toggleable__control:checked~label.sk-toggleable__label-arrow:before {content: \"▾\";}#sk-container-id-2 div.sk-estimator input.sk-toggleable__control:checked~label.sk-toggleable__label {background-color: #d4ebff;}#sk-container-id-2 div.sk-label input.sk-toggleable__control:checked~label.sk-toggleable__label {background-color: #d4ebff;}#sk-container-id-2 input.sk-hidden--visually {border: 0;clip: rect(1px 1px 1px 1px);clip: rect(1px, 1px, 1px, 1px);height: 1px;margin: -1px;overflow: hidden;padding: 0;position: absolute;width: 1px;}#sk-container-id-2 div.sk-estimator {font-family: monospace;background-color: #f0f8ff;border: 1px dotted black;border-radius: 0.25em;box-sizing: border-box;margin-bottom: 0.5em;}#sk-container-id-2 div.sk-estimator:hover {background-color: #d4ebff;}#sk-container-id-2 div.sk-parallel-item::after {content: \"\";width: 100%;border-bottom: 1px solid gray;flex-grow: 1;}#sk-container-id-2 div.sk-label:hover label.sk-toggleable__label {background-color: #d4ebff;}#sk-container-id-2 div.sk-serial::before {content: \"\";position: absolute;border-left: 1px solid gray;box-sizing: border-box;top: 0;bottom: 0;left: 50%;z-index: 0;}#sk-container-id-2 div.sk-serial {display: flex;flex-direction: column;align-items: center;background-color: white;padding-right: 0.2em;padding-left: 0.2em;position: relative;}#sk-container-id-2 div.sk-item {position: relative;z-index: 1;}#sk-container-id-2 div.sk-parallel {display: flex;align-items: stretch;justify-content: center;background-color: white;position: relative;}#sk-container-id-2 div.sk-item::before, #sk-container-id-2 div.sk-parallel-item::before {content: \"\";position: absolute;border-left: 1px solid gray;box-sizing: border-box;top: 0;bottom: 0;left: 50%;z-index: -1;}#sk-container-id-2 div.sk-parallel-item {display: flex;flex-direction: column;z-index: 1;position: relative;background-color: white;}#sk-container-id-2 div.sk-parallel-item:first-child::after {align-self: flex-end;width: 50%;}#sk-container-id-2 div.sk-parallel-item:last-child::after {align-self: flex-start;width: 50%;}#sk-container-id-2 div.sk-parallel-item:only-child::after {width: 0;}#sk-container-id-2 div.sk-dashed-wrapped {border: 1px dashed gray;margin: 0 0.4em 0.5em 0.4em;box-sizing: border-box;padding-bottom: 0.4em;background-color: white;}#sk-container-id-2 div.sk-label label {font-family: monospace;font-weight: bold;display: inline-block;line-height: 1.2em;}#sk-container-id-2 div.sk-label-container {text-align: center;}#sk-container-id-2 div.sk-container {/* jupyter's `normalize.less` sets `[hidden] { display: none; }` but bootstrap.min.css set `[hidden] { display: none !important; }` so we also need the `!important` here to be able to override the default hidden behavior on the sphinx rendered scikit-learn.org. See: https://github.com/scikit-learn/scikit-learn/issues/21755 */display: inline-block !important;position: relative;}#sk-container-id-2 div.sk-text-repr-fallback {display: none;}</style><div id=\"sk-container-id-2\" class=\"sk-top-container\"><div class=\"sk-text-repr-fallback\"><pre>XGBClassifier(base_score=0.5, booster=&#x27;gbtree&#x27;, callbacks=None,\n",
       "              colsample_bylevel=1, colsample_bynode=1, colsample_bytree=1,\n",
       "              early_stopping_rounds=None, enable_categorical=False,\n",
       "              eta=0.05583946280622387, eval_metric=None,\n",
       "              gamma=7.950724483766072, gpu_id=-1, grow_policy=&#x27;depthwise&#x27;,\n",
       "              importance_type=None, interaction_constraints=&#x27;&#x27;,\n",
       "              lambda=6.849414841615746, learning_rate=0.0558394641, max_bin=256,\n",
       "              max_cat_to_onehot=4, max_delta_step=0, max_depth=5, max_leaves=0,\n",
       "              min_child_weight=1, missing=nan, monotone_constraints=&#x27;()&#x27;,\n",
       "              n_estimators=128, n_jobs=0, num_parallel_tree=1, predictor=&#x27;auto&#x27;,\n",
       "              random_state=0, ...)</pre><b>In a Jupyter environment, please rerun this cell to show the HTML representation or trust the notebook. <br />On GitHub, the HTML representation is unable to render, please try loading this page with nbviewer.org.</b></div><div class=\"sk-container\" hidden><div class=\"sk-item\"><div class=\"sk-estimator sk-toggleable\"><input class=\"sk-toggleable__control sk-hidden--visually\" id=\"sk-estimator-id-2\" type=\"checkbox\" checked><label for=\"sk-estimator-id-2\" class=\"sk-toggleable__label sk-toggleable__label-arrow\">XGBClassifier</label><div class=\"sk-toggleable__content\"><pre>XGBClassifier(base_score=0.5, booster=&#x27;gbtree&#x27;, callbacks=None,\n",
       "              colsample_bylevel=1, colsample_bynode=1, colsample_bytree=1,\n",
       "              early_stopping_rounds=None, enable_categorical=False,\n",
       "              eta=0.05583946280622387, eval_metric=None,\n",
       "              gamma=7.950724483766072, gpu_id=-1, grow_policy=&#x27;depthwise&#x27;,\n",
       "              importance_type=None, interaction_constraints=&#x27;&#x27;,\n",
       "              lambda=6.849414841615746, learning_rate=0.0558394641, max_bin=256,\n",
       "              max_cat_to_onehot=4, max_delta_step=0, max_depth=5, max_leaves=0,\n",
       "              min_child_weight=1, missing=nan, monotone_constraints=&#x27;()&#x27;,\n",
       "              n_estimators=128, n_jobs=0, num_parallel_tree=1, predictor=&#x27;auto&#x27;,\n",
       "              random_state=0, ...)</pre></div></div></div></div></div>"
      ],
      "text/plain": [
       "XGBClassifier(base_score=0.5, booster='gbtree', callbacks=None,\n",
       "              colsample_bylevel=1, colsample_bynode=1, colsample_bytree=1,\n",
       "              early_stopping_rounds=None, enable_categorical=False,\n",
       "              eta=0.05583946280622387, eval_metric=None,\n",
       "              gamma=7.950724483766072, gpu_id=-1, grow_policy='depthwise',\n",
       "              importance_type=None, interaction_constraints='',\n",
       "              lambda=6.849414841615746, learning_rate=0.0558394641, max_bin=256,\n",
       "              max_cat_to_onehot=4, max_delta_step=0, max_depth=5, max_leaves=0,\n",
       "              min_child_weight=1, missing=nan, monotone_constraints='()',\n",
       "              n_estimators=128, n_jobs=0, num_parallel_tree=1, predictor='auto',\n",
       "              random_state=0, ...)"
      ]
     },
     "execution_count": 14,
     "metadata": {},
     "output_type": "execute_result"
    }
   ],
   "source": [
    "params = study.get_trials()[663].params\n",
    "from xgboost import XGBClassifier\n",
    "model = XGBClassifier(**params)\n",
    "model.fit(X_train, y_train, eval_set=[(X_valid, y_valid)], early_stopping_rounds=10)"
   ]
  },
  {
   "cell_type": "code",
   "execution_count": 15,
   "metadata": {},
   "outputs": [
    {
     "data": {
      "text/plain": [
       "{'accuracy': 0.7068218319014964,\n",
       " 'f1_score': 0.7084581486629796,\n",
       " 'precision': 0.7058011398553714,\n",
       " 'recall': 0.7111352378367375,\n",
       " 'ROC_AUC': 0.7068139370018993}"
      ]
     },
     "execution_count": 15,
     "metadata": {},
     "output_type": "execute_result"
    }
   ],
   "source": [
    "get_metrics(model, X_train, y_train)"
   ]
  },
  {
   "cell_type": "code",
   "execution_count": 18,
   "metadata": {},
   "outputs": [
    {
     "data": {
      "text/plain": [
       "{'accuracy': 0.7050163576881134,\n",
       " 'f1_score': 0.7043568980078494,\n",
       " 'precision': 0.7029251363411007,\n",
       " 'recall': 0.705794504181601,\n",
       " 'ROC_AUC': 0.7050196607778686}"
      ]
     },
     "execution_count": 18,
     "metadata": {},
     "output_type": "execute_result"
    }
   ],
   "source": [
    "get_metrics(model, X_valid, y_valid)"
   ]
  },
  {
   "cell_type": "code",
   "execution_count": 19,
   "metadata": {},
   "outputs": [
    {
     "data": {
      "text/plain": [
       "{'accuracy': 0.7017597153210233,\n",
       " 'f1_score': 0.26658129235366307,\n",
       " 'precision': 0.16631158455392808,\n",
       " 'recall': 0.6713249126578876,\n",
       " 'ROC_AUC': 0.6878788562722946}"
      ]
     },
     "execution_count": 19,
     "metadata": {},
     "output_type": "execute_result"
    }
   ],
   "source": [
    "get_metrics(model, X_test, y_test)"
   ]
  },
  {
   "cell_type": "code",
   "execution_count": 21,
   "metadata": {},
   "outputs": [],
   "source": [
    "def random_proba(X):\n",
    "    return np.array([[0, random.uniform(0, 1)] for _ in range(X.shape[0])])\n",
    "\n",
    "baseline = ModelWrapper(random_proba, threshold=.5)"
   ]
  },
  {
   "cell_type": "code",
   "execution_count": 22,
   "metadata": {},
   "outputs": [
    {
     "data": {
      "text/plain": [
       "{'accuracy': 0.49907783105864995,\n",
       " 'f1_score': 0.1339935479030685,\n",
       " 'precision': 0.07786545755765793,\n",
       " 'recall': 0.47997850040311746,\n",
       " 'ROC_AUC': 0.49036691153375905}"
      ]
     },
     "execution_count": 22,
     "metadata": {},
     "output_type": "execute_result"
    }
   ],
   "source": [
    "get_metrics(baseline, X_test, y_test)"
   ]
  },
  {
   "cell_type": "code",
   "execution_count": 23,
   "metadata": {},
   "outputs": [
    {
     "name": "stderr",
     "output_type": "stream",
     "text": [
      "2022-10-08 00:15:29,300 utils.io: Saving XGBClassifier(base_score=0.5, booster='gbtree', callbacks=None,\n",
      "              colsample_bylevel=1, colsample_bynode=1, colsample_bytree=1,\n",
      "              early_stopping_rounds=None, enable_categorical=False,\n",
      "              eta=0.05583946280622387, eval_metric=None,\n",
      "              gamma=7.950724483766072, gpu_id=-1, grow_policy='depthwise',\n",
      "              importance_type=None, interaction_constraints='',\n",
      "              lambda=6.849414841615746, learning_rate=0.0558394641, max_bin=256,\n",
      "              max_cat_to_onehot=4, max_delta_step=0, max_depth=5, max_leaves=0,\n",
      "              min_child_weight=1, missing=nan, monotone_constraints='()',\n",
      "              n_estimators=128, n_jobs=0, num_parallel_tree=1, predictor='auto',\n",
      "              random_state=0, ...) object to resources/models/serialized/xgboost_final_2.pkl\n",
      "2022-10-08 00:15:29,308 utils.io: Saving to resources/models/serialized/xgboost_final_2.pkl succeeded\n",
      "2022-10-08 00:15:29,312 utils.io: Saving dictionary into resources/models/parameters/xgboost_final_2.json\n",
      "2022-10-08 00:15:29,314 utils.io: Saving dictionary into resources/models/parameters/xgboost_final_2.json suceeded\n"
     ]
    }
   ],
   "source": [
    "from utils.io import save_model\n",
    "save_model(\n",
    "    model=model,\n",
    "    model_serialized_path=\"resources/models/serialized/xgboost_final_2.pkl\", \n",
    "    model_parameters_path=\"resources/models/parameters/xgboost_final_2.json\"\n",
    ")"
   ]
  },
  {
   "cell_type": "markdown",
   "metadata": {},
   "source": [
    "slightly better than baseline"
   ]
  }
 ],
 "metadata": {
  "kernelspec": {
   "display_name": "Python 3.10.0 ('default_prediction')",
   "language": "python",
   "name": "python3"
  },
  "language_info": {
   "codemirror_mode": {
    "name": "ipython",
    "version": 3
   },
   "file_extension": ".py",
   "mimetype": "text/x-python",
   "name": "python",
   "nbconvert_exporter": "python",
   "pygments_lexer": "ipython3",
   "version": "3.10.0"
  },
  "orig_nbformat": 4,
  "vscode": {
   "interpreter": {
    "hash": "1e1f6d670a398f79a37d96720a30f8a8a62dff7decaa5b825d061b7e0997c08b"
   }
  }
 },
 "nbformat": 4,
 "nbformat_minor": 2
}
